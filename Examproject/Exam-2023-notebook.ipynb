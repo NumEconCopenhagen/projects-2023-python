{
 "cells": [
  {
   "attachments": {},
   "cell_type": "markdown",
   "metadata": {},
   "source": [
    "**Table of contents**<a id='toc0_'></a>    \n",
    "- 1. [Problem 1: Optimal taxation with government consumption](#toc1_)    \n",
    "- 2. [Problem 2: Labor adjustment costs](#toc2_)    \n",
    "- 3. [Problem 3: Global optimizer with refined multi-start](#toc3_)    \n",
    "\n",
    "<!-- vscode-jupyter-toc-config\n",
    "\tnumbering=true\n",
    "\tanchor=true\n",
    "\tflat=false\n",
    "\tminLevel=2\n",
    "\tmaxLevel=6\n",
    "\t/vscode-jupyter-toc-config -->\n",
    "<!-- THIS CELL WILL BE REPLACED ON TOC UPDATE. DO NOT WRITE YOUR TEXT IN THIS CELL -->"
   ]
  },
  {
   "attachments": {},
   "cell_type": "markdown",
   "metadata": {},
   "source": [
    "I import packages and set magics. \n",
    "\n",
    "Furthermore, I import my models. I have designed three different py-files, so each problem has its own py-file:"
   ]
  },
  {
   "cell_type": "code",
   "execution_count": 176,
   "metadata": {},
   "outputs": [
    {
     "name": "stdout",
     "output_type": "stream",
     "text": [
      "The autoreload extension is already loaded. To reload it, use:\n",
      "  %reload_ext autoreload\n"
     ]
    }
   ],
   "source": [
    "# (a) Importing packages\n",
    "import numpy as np\n",
    "import matplotlib.pyplot as plt\n",
    "import scipy as optimize\n",
    "import matplotlib as cm\n",
    "import pandas as pd\n",
    "import math\n",
    "from tabulate import tabulate\n",
    "from mpl_toolkits.mplot3d import Axes3D\n",
    "import sympy as sm\n",
    "from scipy import optimize\n",
    "\n",
    "\n",
    "# (b) Autoreload modules\n",
    "%load_ext autoreload\n",
    "%autoreload 2\n",
    "\n",
    "# (c) Import my models\n",
    "from p1 import TaxGov                       # Problem 1, Question 1-4"
   ]
  },
  {
   "attachments": {},
   "cell_type": "markdown",
   "metadata": {},
   "source": [
    "## 1. <a id='toc1_'></a>[Problem 1: Optimal taxation with government consumption](#toc0_)"
   ]
  },
  {
   "attachments": {},
   "cell_type": "markdown",
   "metadata": {},
   "source": [
    "\n",
    "Consider a worker choosing hours of labor, $L\\in[0,24]$, to maximize utility: \n",
    "\n",
    "$$\n",
    "\\begin{align*}\n",
    "V(w,\\tau,G)&=\\max_{L\\in[0,24]}\\ln\\left(C^{\\alpha}G^{1-\\alpha}\\right)-\\nu\\frac{L^{2}}{2}\\\\&\\text{s.t.}\\\\&C=\\kappa+(1-\\tau)wL\n",
    "\\end{align*}\n",
    "$$\n",
    "\n",
    "where \n",
    "\n",
    "* $C$ is *private* consumption with weight $\\alpha\\in(0,1)$.\n",
    "* $\\kappa > 0$ is the *free private* consumption component.\n",
    "* $(1-\\tau)wL$ is the *costly private* consumption component.\n",
    "* $w > 0 $ is the real wage.\n",
    "* $\\tau \\in (0,1)$ is the labor-income tax rate.\n",
    "* $G > 0 $ is *government* consumption with weight $1-\\alpha$.\n",
    "* $\\nu > 0$ is the disutility of labor scaling factor"
   ]
  },
  {
   "attachments": {},
   "cell_type": "markdown",
   "metadata": {},
   "source": [
    "\n",
    "The baseline parameters are:\n",
    "\n",
    "$$\n",
    "\\begin{align*}\n",
    "\\alpha &= 0.5\\\\\n",
    "\\kappa &= 1.0\\\\\n",
    "\\nu &= \\frac{1}{2\\cdot16^2} \\\\\n",
    "w &= 1.0 \\\\ \n",
    "\\tau &= 0.30 \\\\\n",
    "\\end{align*}\n",
    "$$"
   ]
  },
  {
   "attachments": {},
   "cell_type": "markdown",
   "metadata": {},
   "source": [
    "**Question 1:** Verify that the optimal labor supply choice is $L^{\\star}(\\tilde{w}) =\\frac{-\\kappa+\\sqrt{\\kappa^{2}+4\\frac{\\alpha}{\\nu}\\tilde{w}^2}}{2\\tilde{w}}$, where $\\tilde{w} = (1-\\tau)w$, for $G\\in\\left\\{1.0 , 2.0\\right\\}$."
   ]
  },
  {
   "attachments": {},
   "cell_type": "markdown",
   "metadata": {},
   "source": [
    "I name my model *tg*:"
   ]
  },
  {
   "cell_type": "code",
   "execution_count": 134,
   "metadata": {},
   "outputs": [],
   "source": [
    "# (a) Defining the model for \n",
    "tg = TaxGov()"
   ]
  },
  {
   "attachments": {},
   "cell_type": "markdown",
   "metadata": {},
   "source": [
    "I verify that the optimal labor supply is given by $L^{\\star}(\\tilde{w}) =\\frac{-\\kappa+\\sqrt{\\kappa^{2}+4\\frac{\\alpha}{\\nu}\\tilde{w}^2}}{2\\tilde{w}}$ by runing two codes:\n",
    "\n",
    "* First, I simply plug in the given parameters in the $L^*(\\tilde{w})$\n",
    "\n",
    "* Secondly, I use an *optimization code* to find the optimal value of $L^*(\\tilde{w})$ with the bounds of labour, $L\\in[0,24]$. I use Nelder-Mead to optimize."
   ]
  },
  {
   "cell_type": "code",
   "execution_count": 135,
   "metadata": {},
   "outputs": [
    {
     "name": "stdout",
     "output_type": "stream",
     "text": [
      "Based on the givne parameters, L*(w_tilde) is given by:\n"
     ]
    },
    {
     "data": {
      "text/plain": [
       "15.30165022719559"
      ]
     },
     "execution_count": 135,
     "metadata": {},
     "output_type": "execute_result"
    }
   ],
   "source": [
    "# (b) L* based on the given parameters\n",
    "print('Based on the givne parameters, L*(w_tilde) is given by:')\n",
    "tg.L_star(tg.wtilde()) # Verify this"
   ]
  },
  {
   "cell_type": "code",
   "execution_count": 136,
   "metadata": {},
   "outputs": [
    {
     "name": "stdout",
     "output_type": "stream",
     "text": [
      "Based on an optimization code, L*(w_tilde) is given by:\n"
     ]
    },
    {
     "data": {
      "text/plain": [
       "array([15.30122671])"
      ]
     },
     "execution_count": 136,
     "metadata": {},
     "output_type": "execute_result"
    }
   ],
   "source": [
    "# (c) Verification of L*\n",
    "print('Based on an optimization code, L*(w_tilde) is given by:')\n",
    "tg.optimize1()['x']"
   ]
  },
  {
   "attachments": {},
   "cell_type": "markdown",
   "metadata": {},
   "source": [
    "Since both estimates are 15.3, I verify nummerically that $L^{\\star}(\\tilde{w}) =\\frac{-\\kappa+\\sqrt{\\kappa^{2}+4\\frac{\\alpha}{\\nu}\\tilde{w}^2}}{2\\tilde{w}}$"
   ]
  },
  {
   "attachments": {},
   "cell_type": "markdown",
   "metadata": {},
   "source": [
    "**Question 2:** Illustrate how $L^{\\star}(\\tilde{w})$ depends on $w$."
   ]
  },
  {
   "attachments": {},
   "cell_type": "markdown",
   "metadata": {},
   "source": [
    "In my model, *tg*, I have made an option for $\\tilde{w}$, so if I define a value of w other than the given value ($w=0.3$), the parameter will not use the default value of w.\n",
    "\n",
    "To illustrate how $L^*(\\tilde{w})$ depends on w, I plot the $L^*$ for 1.000 different values of w:"
   ]
  },
  {
   "cell_type": "code",
   "execution_count": 137,
   "metadata": {},
   "outputs": [
    {
     "name": "stderr",
     "output_type": "stream",
     "text": [
      "c:\\Users\\CAAL\\Dropbox\\Polit\\Kandidat\\3. semester\\Introduction to programming and numerical analysis\\projects-2023-python-1\\examproject\\p1.py:40: RuntimeWarning: invalid value encountered in double_scalars\n",
      "  return (-par.kappa+np.sqrt(par.kappa**2+4*(par.alpha/par.nu)*wtilde**2))/(2*wtilde)\n"
     ]
    },
    {
     "data": {
      "image/png": "[encoded data removed]",
      "text/plain": [
       "<Figure size 640x480 with 1 Axes>"
      ]
     },
     "metadata": {},
     "output_type": "display_data"
    }
   ],
   "source": [
    "# (a) Defining a range of w (0, 1000)\n",
    "w = np.array(range(0,10**3))\n",
    "\n",
    "# (b) Plotting L* as a function of w_tilde which is given by w (varies)\n",
    "Lstars = [tg.L_star(tg.wtilde(w=w_i)) for w_i in w]\n",
    "plt.plot(w, Lstars, color='red')\n",
    "\n",
    "# (c) Adjusting the plot\n",
    "plt.xlabel('w')\n",
    "plt.ylabel('L*')\n",
    "plt.title('Figure 1: L* for different values of w')\n",
    "plt.scatter(1, 15.30, color='pink', label='Optimal level of L* when w=1, cf. *question 1*')\n",
    "plt.legend()\n",
    "plt.show()"
   ]
  },
  {
   "attachments": {},
   "cell_type": "markdown",
   "metadata": {},
   "source": [
    "L* depends on w indirectly through $\\tilde{w}$. Based on **Figure 1**, I can tell that L* converges towards 16, which indicates that the wage have only influence over the optimal level of labor supply, until it reaches approximately 100.This inciates, that the workers will not work more than 16 hours per day nomatter the size of the wage."
   ]
  },
  {
   "attachments": {},
   "cell_type": "markdown",
   "metadata": {},
   "source": [
    "\n",
    "We now consider a government, who chooses $\\tau$ and spend all of the taxes on government consumption so:\n",
    "\n",
    "$$\n",
    "G = \\tau w L^{\\star}((1-\\tau)w)\n",
    "$$\n",
    "\n",
    "**Question 3:** Plot the implied $L$, $G$ and worker utility for a grid of $\\tau$-values.\n"
   ]
  },
  {
   "attachments": {},
   "cell_type": "markdown",
   "metadata": {},
   "source": [
    "I use $L^*$ from *question 2*, since $\\tau$ still varies.\n",
    "\n",
    "In *question 1-2*, I defined as $G\\in\\left\\{1.0 , 2.0\\right\\}$. Now, G depends on tau, cf. $G = \\tau w L^{\\star}((1-\\tau)w)$, and so I need to redefine G, so it become dependent of $\\tau$, $w$ and $L$:\n",
    "\n",
    "I start by defining the range of $\\tau\\in\\left\\{0, 1 \\right\\}$, since  $\\tau$ is the tax rate on labor-income. Therefore, $\\tau$ is a percentage, and so it cannot go beyond 1."
   ]
  },
  {
   "cell_type": "code",
   "execution_count": 138,
   "metadata": {},
   "outputs": [
    {
     "data": {
      "text/plain": [
       "<matplotlib.legend.Legend at 0x2456678a0d0>"
      ]
     },
     "execution_count": 138,
     "metadata": {},
     "output_type": "execute_result"
    },
    {
     "data": {
      "image/png": "[encoded data removed]",
      "text/plain": [
       "<Figure size 640x480 with 1 Axes>"
      ]
     },
     "metadata": {},
     "output_type": "display_data"
    }
   ],
   "source": [
    "# (a) Defining the range of tau.\n",
    "tau = np.array(np.arange(0., 1., 0.01))\n",
    "\n",
    "# (b) Defining L* and G as functions of tau\n",
    "Lstars = [tg.L_star(tg.wtilde(tau=tau_i)) for tau_i in tau]\n",
    "Gs = [tg.par.G3(tau[i],Lstars[i]) for i in range(len(tau))]\n",
    "\n",
    "# (c) Plotting L* and G as functions of tau\n",
    "plt.plot(tau, Gs, label='Government consumption', color = 'purple', linestyle = '--')\n",
    "plt.plot(tau, Lstars, label = 'L*', color = 'red')\n",
    "\n",
    "# (d) Adjusting the plot\n",
    "plt.title('Figure 2: L* and G as functions of tau')\n",
    "plt.xlabel(r'$\\tau$')\n",
    "plt.legend()"
   ]
  },
  {
   "attachments": {},
   "cell_type": "markdown",
   "metadata": {},
   "source": [
    "**Figure 2** shows that when the tax rate on labor-income tax increases, the optimal working hours decreases caused by a lower incentive to work. With no income tax, $tau=0$, the workers have the highest incentive to work, and so they work 16 hours aday. \n",
    "\n",
    "Furthermore, **Figure 2** illustrates the government consumption, which depends on labor-income tax rate, $\\tau$, and labor, $l$. When the tax increases, the Government consumption increases. However, the income tax decreases the working hours, which decreases the Government consumption. The figure indicates that Government spending is maximized with a labor-income tax rate at 85 pct.\n",
    "\n",
    "In the next question, I illustrate the maximized worker utility based on the tax rate."
   ]
  },
  {
   "attachments": {},
   "cell_type": "markdown",
   "metadata": {},
   "source": [
    "**Question 4:** Find the socially optimal tax rate $\\tau^{\\star}\\in(0,1)$ maximizing worker utility. Illustrate your result."
   ]
  },
  {
   "attachments": {},
   "cell_type": "markdown",
   "metadata": {},
   "source": [
    "In the py-file, I code a new optimizer so I can find the socially optimal tax rate that maximizes the worker utility:"
   ]
  },
  {
   "cell_type": "code",
   "execution_count": 139,
   "metadata": {},
   "outputs": [
    {
     "data": {
      "text/plain": [
       "array([0.51453125])"
      ]
     },
     "execution_count": 139,
     "metadata": {},
     "output_type": "execute_result"
    }
   ],
   "source": [
    "# (a) Finding the socially optimal tax rate:\n",
    "tg.optimize2()['x']"
   ]
  },
  {
   "attachments": {},
   "cell_type": "markdown",
   "metadata": {},
   "source": [
    "The socially optimal labor-income tax rate is 51.5 pct., which I will illustrate below:"
   ]
  },
  {
   "cell_type": "code",
   "execution_count": 140,
   "metadata": {},
   "outputs": [
    {
     "name": "stderr",
     "output_type": "stream",
     "text": [
      "c:\\Users\\CAAL\\Dropbox\\Polit\\Kandidat\\3. semester\\Introduction to programming and numerical analysis\\projects-2023-python-1\\examproject\\p1.py:114: RuntimeWarning: divide by zero encountered in log\n",
      "  V = lambda tau: -(np.log(C_tau(tau, self.L_star(self.wtilde(tau=tau))) ** par.alpha * par.G3(tau, self.L_star(self.wtilde(tau=tau))) ** (1 - par.alpha)) - par.nu * self.L_star(self.wtilde(tau=tau)) ** 2 / 2)\n"
     ]
    },
    {
     "data": {
      "text/plain": [
       "<matplotlib.legend.Legend at 0x245658ad370>"
      ]
     },
     "execution_count": 140,
     "metadata": {},
     "output_type": "execute_result"
    },
    {
     "data": {
      "image/png": "[encoded data removed]",
      "text/plain": [
       "<Figure size 640x480 with 1 Axes>"
      ]
     },
     "metadata": {},
     "output_type": "display_data"
    }
   ],
   "source": [
    "# (a) defining tau to be 0-1\n",
    "tau = np.array(np.arange(0., 1., 0.01))\n",
    "\n",
    "# (b) Defining the workers utility function \n",
    "V_list = [-tg.V_tau(tau = tau_i) for tau_i in tau]\n",
    "\n",
    "# (c) Plotting L* as functions of tau\n",
    "plt.plot(tau, V_list, label = 'L* for given $\\tau$', color = 'pink')\n",
    "plt.scatter(0.515, 1.86, color='red', marker='o', label = 'Socially optimal tax rate')\n",
    "\n",
    "# (d) Adjusting the plot\n",
    "plt.title('Figure 3: The socially optimal tax rate that maximizes the worker utility')\n",
    "plt.xlabel(r'$\\tau$ ')\n",
    "plt.ylabel('L*')\n",
    "plt.legend()"
   ]
  },
  {
   "attachments": {},
   "cell_type": "markdown",
   "metadata": {},
   "source": [
    "**Figure 3** illustrates aswell that the socially optimal tax rate for worker utility is 51.5 pct."
   ]
  },
  {
   "attachments": {},
   "cell_type": "markdown",
   "metadata": {},
   "source": [
    "A more general preference formulation for the worker is:\n",
    "\n",
    "$$\n",
    "\\begin{align*}\n",
    "\\mathcal{V}(w,\\tau,G)&=\\max_{L\\in[0,24]}\\frac{\\left[ \\left( \\alpha C^{\\frac{\\sigma-1}{\\sigma}}+(1-\\alpha) G^{\\frac{\\sigma-1}{\\sigma}} \\right)^{\\frac{\\sigma}{\\sigma-1} }\\right]^{1-\\rho}-1}{1-\\rho}- \\nu\\frac{L^{1+\\varepsilon}}{1+\\varepsilon},\\,\\,\\,\\varepsilon,\\rho,\\sigma>0,\\,\\,\\,\\rho,\\sigma\\neq1\\\\&\\text{s.t.}\\\\&C=\\kappa+(1-\\tau)wL\n",
    "\\end{align*}    \n",
    "$$\n",
    "\n",
    "Optimal labor supply is now $L^{\\star}(\\tilde{w},G)$."
   ]
  },
  {
   "attachments": {},
   "cell_type": "markdown",
   "metadata": {},
   "source": [
    "Questions 5 and 6 must be answered with the general formulation, and for 2 different set of parameters:\n",
    "\n",
    "- Set 1:  $\\sigma = 1.001$, $\\rho = 1.001$ and $\\varepsilon = 1.0$.\n",
    "- Set 2:  $\\sigma = 1.5$, $\\rho = 1.5$ and $\\varepsilon = 1.0 $."
   ]
  },
  {
   "attachments": {},
   "cell_type": "markdown",
   "metadata": {},
   "source": [
    "**Question 5:** Find the $G$ that solves $G = \\tau w L^{\\star}((1-\\tau)w,G)$ using the $\\tau$ found in question 4.\n",
    "\n",
    "*Hint: First write code that solves the worker problem for given values of $G$ and $\\tau$. Then find the correct G based on this.*"
   ]
  },
  {
   "attachments": {},
   "cell_type": "markdown",
   "metadata": {},
   "source": [
    "The assignment states that I have to answer question 5-6 with a *general formulation* I assume that I must answer this with symbols. \n",
    "\n",
    "Therefore, I write my coding in this file and define a set of parameters as symbols:"
   ]
  },
  {
   "cell_type": "code",
   "execution_count": 141,
   "metadata": {},
   "outputs": [
    {
     "data": {
      "text/latex": [
       "$\\displaystyle - \\frac{L^{\\epsilon + 1} v}{\\epsilon + 1} + \\frac{\\left(C^{\\frac{\\sigma - 1}{\\sigma}} \\alpha + G^{\\frac{\\sigma}{\\sigma - 1}} \\cdot \\left(1 - \\alpha\\right)\\right)^{1 - \\rho} - 1}{1 - \\rho}$"
      ],
      "text/plain": [
       "-L**(epsilon + 1)*v/(epsilon + 1) + ((C**((sigma - 1)/sigma)*alpha + G**(sigma/(sigma - 1))*(1 - alpha))**(1 - rho) - 1)/(1 - rho)"
      ]
     },
     "execution_count": 141,
     "metadata": {},
     "output_type": "execute_result"
    }
   ],
   "source": [
    "# (a) defining the parameters\n",
    "alpha = sm.symbols('alpha')             \n",
    "kappa = sm.symbols('kappa')             # free private consumption component\n",
    "v = sm.symbols('v')                     # disutility of labor scaling\n",
    "w = sm.symbols('w')                     # labor-income\n",
    "tau = sm.symbols('tau')                 # labor-income tax\n",
    "C = sm.symbols('C')                     # consumption\n",
    "L = sm.symbols('L')                     # Labor\n",
    "L_star = sm.symbols('L^*')              # Optimal labor\n",
    "sigma = sm.symbols('sigma')\n",
    "rho = sm.symbols('rho')\n",
    "epsilon = sm.symbols('epsilon')\n",
    "G = sm.symbols('G')\n",
    "\n",
    "# (b) defining the objective function:\n",
    "objective = ((alpha * C ** ((sigma -1)/ sigma) + (1 - alpha) * G ** (sigma / (sigma - 1))) ** (1 - rho) - 1) / (1 - rho) - v * L ** (1 + epsilon) / (1 + epsilon)\n",
    "objective"
   ]
  },
  {
   "cell_type": "code",
   "execution_count": 142,
   "metadata": {},
   "outputs": [
    {
     "data": {
      "text/latex": [
       "$\\displaystyle C = L w \\left(1 - \\tau\\right) + \\kappa$"
      ],
      "text/plain": [
       "Eq(C, L*w*(1 - tau) + kappa)"
      ]
     },
     "execution_count": 142,
     "metadata": {},
     "output_type": "execute_result"
    }
   ],
   "source": [
    "# (a) Defining the consumption function:\n",
    "consumption = sm.Eq(C, kappa + (1-tau)*w*L)\n",
    "cons = kappa + (1-tau)*w*L\n",
    "\n",
    "# (b) vizualising the consumption function\n",
    "consumption"
   ]
  },
  {
   "cell_type": "code",
   "execution_count": 143,
   "metadata": {},
   "outputs": [
    {
     "data": {
      "text/latex": [
       "$\\displaystyle - \\frac{L^{\\epsilon + 1} v}{\\epsilon + 1} + \\frac{\\left(G^{\\frac{\\sigma}{\\sigma - 1}} \\cdot \\left(1 - \\alpha\\right) + \\alpha \\left(L w \\left(1 - \\tau\\right) + \\kappa\\right)^{\\frac{\\sigma - 1}{\\sigma}}\\right)^{1 - \\rho} - 1}{1 - \\rho}$"
      ],
      "text/plain": [
       "-L**(epsilon + 1)*v/(epsilon + 1) + ((G**(sigma/(sigma - 1))*(1 - alpha) + alpha*(L*w*(1 - tau) + kappa)**((sigma - 1)/sigma))**(1 - rho) - 1)/(1 - rho)"
      ]
     },
     "execution_count": 143,
     "metadata": {},
     "output_type": "execute_result"
    }
   ],
   "source": [
    "# (a) substituting C into objective function:\n",
    "objective_L = objective.subs(C, cons)\n",
    "objective_L"
   ]
  },
  {
   "cell_type": "code",
   "execution_count": 193,
   "metadata": {},
   "outputs": [
    {
     "data": {
      "text/latex": [
       "$\\displaystyle \\frac{\\alpha w \\left(1 - \\tau\\right) \\left(\\sigma - 1\\right) \\left(G^{\\frac{\\sigma}{\\sigma - 1}} \\cdot \\left(1 - \\alpha\\right) + \\alpha \\left(L w \\left(1 - \\tau\\right) + \\kappa\\right)^{\\frac{\\sigma - 1}{\\sigma}}\\right)^{1 - \\rho} \\left(L w \\left(1 - \\tau\\right) + \\kappa\\right)^{\\frac{\\sigma - 1}{\\sigma}}}{\\sigma \\left(G^{\\frac{\\sigma}{\\sigma - 1}} \\cdot \\left(1 - \\alpha\\right) + \\alpha \\left(L w \\left(1 - \\tau\\right) + \\kappa\\right)^{\\frac{\\sigma - 1}{\\sigma}}\\right) \\left(L w \\left(1 - \\tau\\right) + \\kappa\\right)} - \\frac{L^{\\epsilon + 1} v}{L}$"
      ],
      "text/plain": [
       "alpha*w*(1 - tau)*(sigma - 1)*(G**(sigma/(sigma - 1))*(1 - alpha) + alpha*(L*w*(1 - tau) + kappa)**((sigma - 1)/sigma))**(1 - rho)*(L*w*(1 - tau) + kappa)**((sigma - 1)/sigma)/(sigma*(G**(sigma/(sigma - 1))*(1 - alpha) + alpha*(L*w*(1 - tau) + kappa)**((sigma - 1)/sigma))*(L*w*(1 - tau) + kappa)) - L**(epsilon + 1)*v/L"
      ]
     },
     "execution_count": 193,
     "metadata": {},
     "output_type": "execute_result"
    }
   ],
   "source": [
    "# (a) take the derivative wrt. L\n",
    "FOC = sm.diff(objective_L, L)\n",
    "FOC"
   ]
  },
  {
   "attachments": {},
   "cell_type": "markdown",
   "metadata": {},
   "source": [
    "Now, I have the code that solves the worker problem for given values of $G$ and $\\tau$. Then find the correct G based on this, which I do by solving for L:"
   ]
  },
  {
   "cell_type": "code",
   "execution_count": 222,
   "metadata": {},
   "outputs": [
    {
     "data": {
      "text/plain": [
       "[((-L*alpha*tau*w + L*alpha*w + alpha*kappa - (alpha*w*(L*sigma*tau**2*w - 2*L*sigma*tau*w + L*sigma*w - L*tau**2*w + 2*L*tau*w - L*w - kappa*sigma*tau + kappa*sigma + kappa*tau - kappa)/(L**epsilon*sigma*v*(-L*tau*w + L*w + kappa)**((sigma + 1)/sigma)))**(1/rho)*(-L*tau*w + L*w + kappa)**(1/sigma))/((alpha - 1)*(-L*tau*w + L*w + kappa)**(1/sigma)))**((sigma - 1)/sigma)]"
      ]
     },
     "execution_count": 222,
     "metadata": {},
     "output_type": "execute_result"
    }
   ],
   "source": [
    "# (a) Solving G as a function of tau, L and w:\n",
    "FOC_sol = sm.solve(FOC, G)\n",
    "FOC_sol"
   ]
  },
  {
   "attachments": {},
   "cell_type": "markdown",
   "metadata": {},
   "source": [
    "Then, I can plug in the given parameters from set 1:"
   ]
  },
  {
   "cell_type": "code",
   "execution_count": 271,
   "metadata": {},
   "outputs": [
    {
     "data": {
      "text/latex": [
       "$\\displaystyle 1.00069269452796 \\left(\\frac{0.5 L \\tau w - 0.5 L w - 0.5 \\kappa + 254.331695997903 \\left(\\frac{w \\left(0.00099999999999989 L \\tau^{2} w - 0.00199999999999978 L \\tau w + 0.00099999999999989 L w - 0.00099999999999989 \\kappa \\tau + 0.00099999999999989 \\kappa\\right)}{L^{1.0} \\left(- L \\tau w + L w + \\kappa\\right)^{1.999000999001}}\\right)^{0.999000999000999} \\left(- L \\tau w + L w + \\kappa\\right)^{0.999000999000999}}{\\left(- L \\tau w + L w + \\kappa\\right)^{0.999000999000999}}\\right)^{0.000999000999000889}$"
      ],
      "text/plain": [
       "1.00069269452796*((0.5*L*tau*w - 0.5*L*w - 0.5*kappa + 254.331695997903*(w*(0.00099999999999989*L*tau**2*w - 0.00199999999999978*L*tau*w + 0.00099999999999989*L*w - 0.00099999999999989*kappa*tau + 0.00099999999999989*kappa)/(L**1.0*(-L*tau*w + L*w + kappa)**1.999000999001))**0.999000999000999*(-L*tau*w + L*w + kappa)**0.999000999000999)/(-L*tau*w + L*w + kappa)**0.999000999000999)**0.000999000999000889"
      ]
     },
     "execution_count": 271,
     "metadata": {},
     "output_type": "execute_result"
    }
   ],
   "source": [
    "# (a) plug in the general parameters:\n",
    "FOC_sol = FOC_sol[0].subs(tau, 0.515)           # estimated in question 4\n",
    "FOC_sol = FOC_sol.subs(w, 1)\n",
    "FOC_sol = FOC_sol.subs(v, 1/(2*16**2))\n",
    "FOC_sol = FOC_sol.subs(alpha, 0.5)\n",
    "FOC_sol = FOC_sol.subs(kappa, 1)\n",
    "\n",
    "# (b) plug in set_1 parameters:\n",
    "FOC_sol_1 = FOC_sol.subs(sigma, 1.001)\n",
    "FOC_sol_1 = FOC_sol_1.subs(rho, 1.001)\n",
    "FOC_sol_1 = FOC_sol_1.subs(epsilon, 1.0)\n",
    "\n",
    "# (c) simpliying the equation\n",
    "sm.simplify(FOC_sol_1)"
   ]
  },
  {
   "attachments": {},
   "cell_type": "markdown",
   "metadata": {},
   "source": [
    "Then, I plug in the other parameters from set 2:"
   ]
  },
  {
   "cell_type": "code",
   "execution_count": 272,
   "metadata": {},
   "outputs": [
    {
     "data": {
      "text/latex": [
       "$\\displaystyle 1.25992104989487 \\left(\\frac{0.5 L \\tau w - 0.5 L w - 0.5 \\kappa + 30.7679908332247 \\left(\\frac{w \\left(0.5 L \\tau^{2} w - 1.0 L \\tau w + 0.5 L w - 0.5 \\kappa \\tau + 0.5 \\kappa\\right)}{L^{1.0} \\left(- L \\tau w + L w + \\kappa\\right)^{1.66666666666667}}\\right)^{0.666666666666667} \\left(- L \\tau w + L w + \\kappa\\right)^{0.666666666666667}}{\\left(- L \\tau w + L w + \\kappa\\right)^{0.666666666666667}}\\right)^{0.333333333333333}$"
      ],
      "text/plain": [
       "1.25992104989487*((0.5*L*tau*w - 0.5*L*w - 0.5*kappa + 30.7679908332247*(w*(0.5*L*tau**2*w - 1.0*L*tau*w + 0.5*L*w - 0.5*kappa*tau + 0.5*kappa)/(L**1.0*(-L*tau*w + L*w + kappa)**1.66666666666667))**0.666666666666667*(-L*tau*w + L*w + kappa)**0.666666666666667)/(-L*tau*w + L*w + kappa)**0.666666666666667)**0.333333333333333"
      ]
     },
     "execution_count": 272,
     "metadata": {},
     "output_type": "execute_result"
    }
   ],
   "source": [
    "# (a) parameters from set 2:\n",
    "FOC_sol_2 = FOC_sol.subs(sigma, 1.5)\n",
    "FOC_sol_2 = FOC_sol_2.subs(rho, 1.5)\n",
    "FOC_sol_2 = FOC_sol_2.subs(epsilon, 1.0)\n",
    "\n",
    "# (b) simpliying the equation\n",
    "sm.simplify(FOC_sol_2)"
   ]
  },
  {
   "attachments": {},
   "cell_type": "markdown",
   "metadata": {},
   "source": [
    "**Question 6:** Find the socially optimal tax rate, $\\tau^{\\star}$, maximizing worker utility, while keeping $G = \\tau w L^{\\star}((1-\\tau)w,G)$."
   ]
  },
  {
   "cell_type": "code",
   "execution_count": 198,
   "metadata": {},
   "outputs": [
    {
     "ename": "AttributeError",
     "evalue": "'types.SimpleNamespace' object has no attribute 'G'",
     "output_type": "error",
     "traceback": [
      "\u001b[1;31m---------------------------------------------------------------------------\u001b[0m",
      "\u001b[1;31mAttributeError\u001b[0m                            Traceback (most recent call last)",
      "Cell \u001b[1;32mIn[198], line 6\u001b[0m\n\u001b[0;32m      3\u001b[0m model_sym \u001b[39m=\u001b[39m TaxGov_sym()\n\u001b[0;32m      5\u001b[0m \u001b[39m# (b) socially optimal tax rate\u001b[39;00m\n\u001b[1;32m----> 6\u001b[0m model_sym\u001b[39m.\u001b[39;49moptimize3()[\u001b[39m'\u001b[39m\u001b[39mx\u001b[39m\u001b[39m'\u001b[39m]\n",
      "File \u001b[1;32mc:\\Users\\CAAL\\Dropbox\\Polit\\Kandidat\\3. semester\\Introduction to programming and numerical analysis\\projects-2023-python-1\\examproject\\p1.py:192\u001b[0m, in \u001b[0;36mTaxGov_sym.optimize3\u001b[1;34m(self)\u001b[0m\n\u001b[0;32m    189\u001b[0m V \u001b[39m=\u001b[39m \u001b[39mlambda\u001b[39;00m tau: (((par\u001b[39m.\u001b[39malpha \u001b[39m*\u001b[39m par\u001b[39m.\u001b[39mC \u001b[39m*\u001b[39m\u001b[39m*\u001b[39m ((par\u001b[39m.\u001b[39msigma \u001b[39m-\u001b[39m\u001b[39m1\u001b[39m)\u001b[39m/\u001b[39m par\u001b[39m.\u001b[39msigma) \u001b[39m+\u001b[39m (\u001b[39m1\u001b[39m \u001b[39m-\u001b[39m par\u001b[39m.\u001b[39malpha) \u001b[39m*\u001b[39m par\u001b[39m.\u001b[39mG \u001b[39m*\u001b[39m\u001b[39m*\u001b[39m (par\u001b[39m.\u001b[39msigma \u001b[39m/\u001b[39m (par\u001b[39m.\u001b[39msigma \u001b[39m-\u001b[39m \u001b[39m1\u001b[39m)) \u001b[39m*\u001b[39m\u001b[39m*\u001b[39m (\u001b[39m1\u001b[39m \u001b[39m-\u001b[39m par\u001b[39m.\u001b[39mrho) \u001b[39m-\u001b[39m \u001b[39m1\u001b[39m) \u001b[39m/\u001b[39m (\u001b[39m1\u001b[39m \u001b[39m-\u001b[39m par\u001b[39m.\u001b[39mrho)) \u001b[39m-\u001b[39m par\u001b[39m.\u001b[39mv \u001b[39m*\u001b[39m par\u001b[39m.\u001b[39mL \u001b[39m*\u001b[39m\u001b[39m*\u001b[39m (\u001b[39m1\u001b[39m \u001b[39m+\u001b[39m par\u001b[39m.\u001b[39mepsilon) \u001b[39m/\u001b[39m (\u001b[39m1\u001b[39m \u001b[39m+\u001b[39m par\u001b[39m.\u001b[39mepsilon))\n\u001b[0;32m    191\u001b[0m \u001b[39m# (iv) Running an optimization code\u001b[39;00m\n\u001b[1;32m--> 192\u001b[0m sol3 \u001b[39m=\u001b[39m optimize\u001b[39m.\u001b[39;49mminimize(V, tau_guess, bounds \u001b[39m=\u001b[39;49m ((\u001b[39m0\u001b[39;49m,\u001b[39m1\u001b[39;49m),), method \u001b[39m=\u001b[39;49m \u001b[39m'\u001b[39;49m\u001b[39mNelder-Mead\u001b[39;49m\u001b[39m'\u001b[39;49m)\n\u001b[0;32m    194\u001b[0m \u001b[39m# (i) Return\u001b[39;00m\n\u001b[0;32m    195\u001b[0m \u001b[39mreturn\u001b[39;00m sol3\n",
      "File \u001b[1;32mc:\\Users\\CAAL\\Anaconda3\\lib\\site-packages\\scipy\\optimize\\_minimize.py:684\u001b[0m, in \u001b[0;36mminimize\u001b[1;34m(fun, x0, args, method, jac, hess, hessp, bounds, constraints, tol, callback, options)\u001b[0m\n\u001b[0;32m    681\u001b[0m     bounds \u001b[39m=\u001b[39m standardize_bounds(bounds, x0, meth)\n\u001b[0;32m    683\u001b[0m \u001b[39mif\u001b[39;00m meth \u001b[39m==\u001b[39m \u001b[39m'\u001b[39m\u001b[39mnelder-mead\u001b[39m\u001b[39m'\u001b[39m:\n\u001b[1;32m--> 684\u001b[0m     res \u001b[39m=\u001b[39m _minimize_neldermead(fun, x0, args, callback, bounds\u001b[39m=\u001b[39mbounds,\n\u001b[0;32m    685\u001b[0m                                \u001b[39m*\u001b[39m\u001b[39m*\u001b[39moptions)\n\u001b[0;32m    686\u001b[0m \u001b[39melif\u001b[39;00m meth \u001b[39m==\u001b[39m \u001b[39m'\u001b[39m\u001b[39mpowell\u001b[39m\u001b[39m'\u001b[39m:\n\u001b[0;32m    687\u001b[0m     res \u001b[39m=\u001b[39m _minimize_powell(fun, x0, args, callback, bounds, \u001b[39m*\u001b[39m\u001b[39m*\u001b[39moptions)\n",
      "File \u001b[1;32mc:\\Users\\CAAL\\Anaconda3\\lib\\site-packages\\scipy\\optimize\\_optimize.py:845\u001b[0m, in \u001b[0;36m_minimize_neldermead\u001b[1;34m(func, x0, args, callback, maxiter, maxfev, disp, return_all, initial_simplex, xatol, fatol, adaptive, bounds, **unknown_options)\u001b[0m\n\u001b[0;32m    843\u001b[0m \u001b[39mtry\u001b[39;00m:\n\u001b[0;32m    844\u001b[0m     \u001b[39mfor\u001b[39;00m k \u001b[39min\u001b[39;00m \u001b[39mrange\u001b[39m(N \u001b[39m+\u001b[39m \u001b[39m1\u001b[39m):\n\u001b[1;32m--> 845\u001b[0m         fsim[k] \u001b[39m=\u001b[39m func(sim[k])\n\u001b[0;32m    846\u001b[0m \u001b[39mexcept\u001b[39;00m _MaxFuncCallError:\n\u001b[0;32m    847\u001b[0m     \u001b[39mpass\u001b[39;00m\n",
      "File \u001b[1;32mc:\\Users\\CAAL\\Anaconda3\\lib\\site-packages\\scipy\\optimize\\_optimize.py:569\u001b[0m, in \u001b[0;36m_wrap_scalar_function_maxfun_validation.<locals>.function_wrapper\u001b[1;34m(x, *wrapper_args)\u001b[0m\n\u001b[0;32m    567\u001b[0m ncalls[\u001b[39m0\u001b[39m] \u001b[39m+\u001b[39m\u001b[39m=\u001b[39m \u001b[39m1\u001b[39m\n\u001b[0;32m    568\u001b[0m \u001b[39m# A copy of x is sent to the user function (gh13740)\u001b[39;00m\n\u001b[1;32m--> 569\u001b[0m fx \u001b[39m=\u001b[39m function(np\u001b[39m.\u001b[39;49mcopy(x), \u001b[39m*\u001b[39;49m(wrapper_args \u001b[39m+\u001b[39;49m args))\n\u001b[0;32m    570\u001b[0m \u001b[39m# Ideally, we'd like to a have a true scalar returned from f(x). For\u001b[39;00m\n\u001b[0;32m    571\u001b[0m \u001b[39m# backwards-compatibility, also allow np.array([1.3]),\u001b[39;00m\n\u001b[0;32m    572\u001b[0m \u001b[39m# np.array([[1.3]]) etc.\u001b[39;00m\n\u001b[0;32m    573\u001b[0m \u001b[39mif\u001b[39;00m \u001b[39mnot\u001b[39;00m np\u001b[39m.\u001b[39misscalar(fx):\n",
      "File \u001b[1;32mc:\\Users\\CAAL\\Dropbox\\Polit\\Kandidat\\3. semester\\Introduction to programming and numerical analysis\\projects-2023-python-1\\examproject\\p1.py:189\u001b[0m, in \u001b[0;36mTaxGov_sym.optimize3.<locals>.<lambda>\u001b[1;34m(tau)\u001b[0m\n\u001b[0;32m    186\u001b[0m tau_guess \u001b[39m=\u001b[39m \u001b[39m0.515\u001b[39m\n\u001b[0;32m    188\u001b[0m \u001b[39m# (iii) Defining V as a function of tau\u001b[39;00m\n\u001b[1;32m--> 189\u001b[0m V \u001b[39m=\u001b[39m \u001b[39mlambda\u001b[39;00m tau: (((par\u001b[39m.\u001b[39malpha \u001b[39m*\u001b[39m par\u001b[39m.\u001b[39mC \u001b[39m*\u001b[39m\u001b[39m*\u001b[39m ((par\u001b[39m.\u001b[39msigma \u001b[39m-\u001b[39m\u001b[39m1\u001b[39m)\u001b[39m/\u001b[39m par\u001b[39m.\u001b[39msigma) \u001b[39m+\u001b[39m (\u001b[39m1\u001b[39m \u001b[39m-\u001b[39m par\u001b[39m.\u001b[39malpha) \u001b[39m*\u001b[39m par\u001b[39m.\u001b[39;49mG \u001b[39m*\u001b[39m\u001b[39m*\u001b[39m (par\u001b[39m.\u001b[39msigma \u001b[39m/\u001b[39m (par\u001b[39m.\u001b[39msigma \u001b[39m-\u001b[39m \u001b[39m1\u001b[39m)) \u001b[39m*\u001b[39m\u001b[39m*\u001b[39m (\u001b[39m1\u001b[39m \u001b[39m-\u001b[39m par\u001b[39m.\u001b[39mrho) \u001b[39m-\u001b[39m \u001b[39m1\u001b[39m) \u001b[39m/\u001b[39m (\u001b[39m1\u001b[39m \u001b[39m-\u001b[39m par\u001b[39m.\u001b[39mrho)) \u001b[39m-\u001b[39m par\u001b[39m.\u001b[39mv \u001b[39m*\u001b[39m par\u001b[39m.\u001b[39mL \u001b[39m*\u001b[39m\u001b[39m*\u001b[39m (\u001b[39m1\u001b[39m \u001b[39m+\u001b[39m par\u001b[39m.\u001b[39mepsilon) \u001b[39m/\u001b[39m (\u001b[39m1\u001b[39m \u001b[39m+\u001b[39m par\u001b[39m.\u001b[39mepsilon))\n\u001b[0;32m    191\u001b[0m \u001b[39m# (iv) Running an optimization code\u001b[39;00m\n\u001b[0;32m    192\u001b[0m sol3 \u001b[39m=\u001b[39m optimize\u001b[39m.\u001b[39mminimize(V, tau_guess, bounds \u001b[39m=\u001b[39m ((\u001b[39m0\u001b[39m,\u001b[39m1\u001b[39m),), method \u001b[39m=\u001b[39m \u001b[39m'\u001b[39m\u001b[39mNelder-Mead\u001b[39m\u001b[39m'\u001b[39m)\n",
      "\u001b[1;31mAttributeError\u001b[0m: 'types.SimpleNamespace' object has no attribute 'G'"
     ]
    }
   ],
   "source": [
    "# (a) import model\n",
    "from p1 import TaxGov_sym\n",
    "model_sym = TaxGov_sym()\n",
    "\n",
    "# (b) socially optimal tax rate\n",
    "model_sym.optimize3()['x']"
   ]
  },
  {
   "attachments": {},
   "cell_type": "markdown",
   "metadata": {},
   "source": [
    "## 2. <a id='toc2_'></a>[Problem 2: Labor adjustment costs](#toc0_)"
   ]
  },
  {
   "cell_type": "code",
   "execution_count": 199,
   "metadata": {},
   "outputs": [
    {
     "name": "stdout",
     "output_type": "stream",
     "text": [
      "The autoreload extension is already loaded. To reload it, use:\n",
      "  %reload_ext autoreload\n"
     ]
    }
   ],
   "source": [
    "# (a) Importing packages\n",
    "import numpy as np\n",
    "import matplotlib.pyplot as plt\n",
    "import scipy as optimize\n",
    "import matplotlib as cm\n",
    "import pandas as pd\n",
    "import math\n",
    "from tabulate import tabulate\n",
    "from mpl_toolkits.mplot3d import Axes3D\n",
    "import sympy as sm\n",
    "from scipy import optimize\n",
    "\n",
    "\n",
    "# (b) Autoreload modules\n",
    "%load_ext autoreload\n",
    "%autoreload 2\n",
    "\n",
    "# (c) Import my model\n",
    "from Assignmenttwo import hairdresser       # Problem 2"
   ]
  },
  {
   "attachments": {},
   "cell_type": "markdown",
   "metadata": {},
   "source": [
    "You own a hair salon. You employ hairdressers, $\\ell_t$, to produce haircuts, $y_t = \\ell_t$.\n",
    "\n",
    "The wage for each haridresser is $w$.\n",
    "\n",
    "The demand for haircuts implies that the price of haircuts you can charge is $p_t = \\kappa_t y_t^{-\\eta}$, where $\\kappa_t$ is a demand-shock and $\\eta \\in (0,1)$ measures the elasticity of demand.\n",
    "\n",
    "Profits are:\n",
    "\n",
    "$$\n",
    "\\Pi_t = p_t y_t - w \\ell_t = \\kappa_t \\ell_t^{1-\\eta} - w \\ell_t\n",
    "$$"
   ]
  },
  {
   "attachments": {},
   "cell_type": "markdown",
   "metadata": {},
   "source": [
    "Baseline parameters are:\n",
    "- $\\eta = 0.5$\n",
    "- $w = 1.0$"
   ]
  },
  {
   "attachments": {},
   "cell_type": "markdown",
   "metadata": {},
   "source": [
    "**Question 1:** Verify numerically that $\\ell_{t}=\\left(\\frac{(1-\\eta)\\kappa_{t}}{w}\\right)^{\\frac{1}{\\eta}}$ maximises profits, for $\\kappa\\in\\left\\{1.0 , 2.0\\right\\}$."
   ]
  },
  {
   "attachments": {},
   "cell_type": "markdown",
   "metadata": {},
   "source": [
    "First of all, I import the model and name it *model_hair*:"
   ]
  },
  {
   "cell_type": "code",
   "execution_count": 200,
   "metadata": {},
   "outputs": [],
   "source": [
    "# (a) Importing the model\n",
    "from Assignmenttwo import hairdresser\n",
    "\n",
    "# (c) nameing the model\n",
    "model_hair = hairdresser()"
   ]
  },
  {
   "attachments": {},
   "cell_type": "markdown",
   "metadata": {},
   "source": [
    "Then, I use the given parameters to create a plot for $\\ell_t$:"
   ]
  },
  {
   "cell_type": "code",
   "execution_count": 201,
   "metadata": {},
   "outputs": [
    {
     "data": {
      "image/png": "[encoded data removed]",
      "text/plain": [
       "<Figure size 640x480 with 1 Axes>"
      ]
     },
     "metadata": {},
     "output_type": "display_data"
    }
   ],
   "source": [
    "# (a) Importing the optimal labor supply based on kappa:\n",
    "model_hair.optimal_l_t()\n",
    "\n",
    "# (b) Creating a plot\n",
    "plt.plot(model_hair.par.kappa_t, model_hair.optimal_l_t(), label = 'Optimal labor supply based on the given parameters', linewidth = 10, color = 'pink')\n",
    "\n",
    "# (c) Adjusting the plot\n",
    "plt.xlabel(r'$\\kappa_t$')\n",
    "plt.ylabel(r'Optimal $l_t$ for each $\\kappa_t$')\n",
    "plt.title('Figure 4: Optimal labor supply when optimizing profil')\n",
    "plt.legend()\n",
    "plt.show() "
   ]
  },
  {
   "attachments": {},
   "cell_type": "markdown",
   "metadata": {},
   "source": [
    "**Figure 4** illustrates, that when $\\kappa_t\\ increases, the optimal labor supply increases, which makes sence, since $l_t$ is positive dependent of $\\kappa_t$:\n",
    "\n",
    "$$\n",
    "\\ell_{t}=\\left(\\frac{(1-\\eta)\\kappa_{t}}{w}\\right)^{\\frac{1}{\\eta}}\n",
    "$$\n",
    "\n",
    "To verify that $\\ell_{t}$ is given as above, I find the optimal value of $\\ell_t$ for each $\\kappa_t\\ value by runing the optimize code:"
   ]
  },
  {
   "cell_type": "code",
   "execution_count": 202,
   "metadata": {},
   "outputs": [
    {
     "name": "stderr",
     "output_type": "stream",
     "text": [
      "c:\\Users\\CAAL\\Dropbox\\Polit\\Kandidat\\3. semester\\Introduction to programming and numerical analysis\\projects-2023-python-1\\examproject\\Assignmenttwo.py:39: RuntimeWarning: divide by zero encountered in power\n",
      "  p_t = kappa_t * y_t ** (- par.eta)\n",
      "c:\\Users\\CAAL\\Dropbox\\Polit\\Kandidat\\3. semester\\Introduction to programming and numerical analysis\\projects-2023-python-1\\examproject\\Assignmenttwo.py:42: RuntimeWarning: invalid value encountered in multiply\n",
      "  pi_t = p_t * y_t - par.w * l_t\n"
     ]
    },
    {
     "data": {
      "image/png": "[encoded data removed]",
      "text/plain": [
       "<Figure size 640x480 with 1 Axes>"
      ]
     },
     "metadata": {},
     "output_type": "display_data"
    }
   ],
   "source": [
    "# (a) Defining an empty list\n",
    "lt_stars = list()\n",
    "profits = list()\n",
    "\n",
    "# (b) importing the dictionary from my py-file\n",
    "result_dictionary = model_hair.opti_employees()\n",
    "result_dictionary\n",
    "\n",
    "# (c) Varying kappa_t in and add the results to the dictionary\n",
    "for k in list(result_dictionary.keys()):\n",
    "    lt_stars.append(result_dictionary[k]['x'][0])\n",
    "    profits.append(-result_dictionary[k]['fun'])\n",
    "\n",
    "\n",
    "# (d) Creating a figure consisting of both plots:\n",
    "plt.plot(model_hair.par.kappa_t, model_hair.optimal_l_t(), label = 'Optimal l_t based on the given parameters', linewidth = 10, color = 'pink')\n",
    "plt.plot(model_hair.par.kappa_t, lt_stars, linestyle = '--', label = 'Optimal l_t based on optimization code')\n",
    "\n",
    "# (e) Adjusting the figure\n",
    "plt.xlabel(r'$\\kappa_t$')\n",
    "plt.ylabel(r'$\\ell_t$')\n",
    "plt.title('Figure 5: Verifying the optimal l_t')\n",
    "plt.legend()\n",
    "plt.show() "
   ]
  },
  {
   "attachments": {},
   "cell_type": "markdown",
   "metadata": {},
   "source": [
    "Based on the plots in **Figure 4**, I can varify that $\\ell_{t}=\\left(\\frac{(1-\\eta)\\kappa_{t}}{w}\\right)^{\\frac{1}{\\eta}}$, since the graphs are showing the exact same patterns when varying $\\kappa_t$."
   ]
  },
  {
   "attachments": {},
   "cell_type": "markdown",
   "metadata": {},
   "source": [
    "We now consider a *dynamic* version of the model.\n",
    "\n",
    "* The demand-shock is a so-called AR(1) in logs, \n",
    "\n",
    "$$\n",
    "\\log \\kappa_{t} = \\rho \\log \\kappa_{t-1} + \\epsilon_{t},\\,\\,\\, \\epsilon_{t+1} \\sim \\mathcal{N}(-0.5\\sigma_{\\epsilon}^2,\\sigma_{\\epsilon})\n",
    "$$\n",
    "\n",
    "* Any hiring or firing implies a fixed adjustment cost, $\\iota > 0 $.\n",
    "* Future profits are discounted with a monthly factor of $R \\in (0,1)$.\n",
    "\n",
    "The initial demand shock is $\\kappa_{-1} = 1$ and the planning horizon is 10 years, i.e. 120 months so $t \\in \\{0,1,2,\\dots,119\\}$. Initially you don't have any employees, $\\ell_{-1}=0$"
   ]
  },
  {
   "attachments": {},
   "cell_type": "markdown",
   "metadata": {},
   "source": [
    "\n",
    "The *ex post* value of the salon is *conditional* on the shock series is:\n",
    "\n",
    "$$\n",
    "h(\\epsilon_0,\\epsilon_1,\\dots,\\epsilon_{119}) = \\left[\\sum_{t=0}^{119}R^{-t}\\left[\\kappa_{t}\\ell_{t}^{1-\\eta}-w\\ell_{t}-\\boldsymbol{1}_{\\ell_{t}\\neq\\ell_{t-1}}\\iota\\right]\\right]\n",
    "$$\n",
    "\n",
    "The *ex ante* expected value of the salon can be approximated by\n",
    "\n",
    "$$\n",
    "H = \\mathbb{E}[h(\\epsilon_0,\\epsilon_1,\\dots,\\epsilon_{119})] \\approx \\frac{1}{K}\\sum_{k=0}^{K} h(\\epsilon_0^k,\\epsilon_1^k,\\dots,\\epsilon_{119}^k)\n",
    "$$\n",
    "\n",
    "where each $k\\in\\{0,1,\\dots,K-1\\}$ is a random shock series. Maximizing profitability means maximizing $H$.\n"
   ]
  },
  {
   "attachments": {},
   "cell_type": "markdown",
   "metadata": {},
   "source": [
    "Baseline parameters are: \n",
    "\n",
    "- $\\rho = 0.90$\n",
    "- $\\iota = 0.01$\n",
    "- $\\sigma_{\\epsilon} = 0.10$\n",
    "- $R = \\left(1+0.01\\right)^{1/12}$"
   ]
  },
  {
   "attachments": {},
   "cell_type": "markdown",
   "metadata": {},
   "source": [
    "**Question 2:** Calculate $H$ if the policy  $\\ell_{t}=\\left(\\frac{(1-\\eta)\\kappa_{t}}{w}\\right)^{\\frac{1}{\\eta}}$ from question 1 is followed. Choose $K$ so the approximation is good enough to not affect your results substantially."
   ]
  },
  {
   "cell_type": "code",
   "execution_count": 203,
   "metadata": {},
   "outputs": [],
   "source": [
    "# (a) First, I import the model:\n",
    "dy_model = dynamic_hairdresser()"
   ]
  },
  {
   "attachments": {},
   "cell_type": "markdown",
   "metadata": {},
   "source": [
    "I have chosen to find the K that does not affect the results with a visual inspection. Therefore, I plot *H* and vary K:"
   ]
  },
  {
   "cell_type": "code",
   "execution_count": 204,
   "metadata": {},
   "outputs": [
    {
     "name": "stderr",
     "output_type": "stream",
     "text": [
      "c:\\Users\\CAAL\\Dropbox\\Polit\\Kandidat\\3. semester\\Introduction to programming and numerical analysis\\projects-2023-python-1\\examproject\\Assignmenttwo.py:200: RuntimeWarning: divide by zero encountered in long_scalars\n",
      "  return 1 / K * np.sum(m)\n",
      "c:\\Users\\CAAL\\Dropbox\\Polit\\Kandidat\\3. semester\\Introduction to programming and numerical analysis\\projects-2023-python-1\\examproject\\Assignmenttwo.py:200: RuntimeWarning: invalid value encountered in double_scalars\n",
      "  return 1 / K * np.sum(m)\n",
      "No artists with labels found to put in legend.  Note that artists whose label start with an underscore are ignored when legend() is called with no argument.\n"
     ]
    },
    {
     "data": {
      "image/png": "[encoded data removed]",
      "text/plain": [
       "<Figure size 640x480 with 1 Axes>"
      ]
     },
     "metadata": {},
     "output_type": "display_data"
    }
   ],
   "source": [
    "# (a) Defining a range of - skal kun være på 500\n",
    "K = np.array(range(0,500))\n",
    "\n",
    "# (b) Plotting L* as a function of w_tilde which is given by w (varies)\n",
    "H_ = [dy_model.H1(K_i) for K_i in K]\n",
    "plt.plot(K, H_, color='pink')\n",
    "\n",
    "# (c) Adjusting the plot\n",
    "plt.xlabel('K')\n",
    "plt.ylabel('H')\n",
    "plt.title('Figure 6: Visualization of H when varying K')\n",
    "plt.legend()\n",
    "plt.show()"
   ]
  },
  {
   "attachments": {},
   "cell_type": "markdown",
   "metadata": {},
   "source": [
    "Based on a visual inspection of **Figure 6**, I find that when $K=500$, $K$, the approximation is good enough to not affect my results substantially.\n",
    "\n",
    "I calculate $\\ell_t$ with K=500:"
   ]
  },
  {
   "cell_type": "code",
   "execution_count": 205,
   "metadata": {},
   "outputs": [
    {
     "data": {
      "text/plain": [
       "27.359578232289593"
      ]
     },
     "execution_count": 205,
     "metadata": {},
     "output_type": "execute_result"
    }
   ],
   "source": [
    "# (a) calculate H\n",
    "dy_model.H1(K=500)"
   ]
  },
  {
   "attachments": {},
   "cell_type": "markdown",
   "metadata": {},
   "source": [
    "I find that when k=500, $\\ell_t=27.6$"
   ]
  },
  {
   "attachments": {},
   "cell_type": "markdown",
   "metadata": {},
   "source": [
    "Next, we consider policies on the form:\n",
    "\n",
    "$$\n",
    "\n",
    "\\ell_{t}=\\begin{cases}\n",
    "\\ell_t^{\\ast}  & \\text{if }\\left|\\ell_{t-1}-\\ell_t^{\\ast} \\right|>\\Delta\\\\\n",
    "\\ell_{t-1} & \\text{else }\n",
    "\\end{cases}\n",
    "\\\\\n",
    "\\text{where}\\,\\,\\ell_t^{\\ast} = \\left(\\frac{(1-\\eta)\\kappa_{t}}{w}\\right)^{\\frac{1}{\\eta}} \\\\\n",
    "\n",
    "$$\n",
    "With $\\Delta \\geq 0$ and $\\Delta = 0$ being the previous policy.\n"
   ]
  },
  {
   "attachments": {},
   "cell_type": "markdown",
   "metadata": {},
   "source": [
    "\n",
    "**Question 3:** Calculate $H$ if the policy above was followed with $\\Delta = 0.05$. Does it improve profitability?"
   ]
  },
  {
   "attachments": {},
   "cell_type": "markdown",
   "metadata": {},
   "source": [
    "I continue using K=500:"
   ]
  },
  {
   "cell_type": "code",
   "execution_count": 206,
   "metadata": {},
   "outputs": [
    {
     "data": {
      "text/plain": [
       "28.428888887185092"
      ]
     },
     "execution_count": 206,
     "metadata": {},
     "output_type": "execute_result"
    }
   ],
   "source": [
    "# (a) Calculation of H:\n",
    "dy_model.H2(K=500, delta=0.05)"
   ]
  },
  {
   "attachments": {},
   "cell_type": "markdown",
   "metadata": {},
   "source": [
    "The latter result gives a profitability of 28.6, which is larger than 27.6. Therefore, the new policy improves profitability"
   ]
  },
  {
   "attachments": {},
   "cell_type": "markdown",
   "metadata": {},
   "source": [
    "**Question 4:** Find the optimal $\\Delta$ maximizing $H$. Illustrate your result."
   ]
  },
  {
   "attachments": {},
   "cell_type": "markdown",
   "metadata": {},
   "source": [
    "First of all, I start by importing a function of delta.\n",
    "Then, I use the optimizer to find the optimal value of $\\Delta$\n",
    "Last of all, I pug it into H:"
   ]
  },
  {
   "cell_type": "code",
   "execution_count": 207,
   "metadata": {},
   "outputs": [
    {
     "data": {
      "text/plain": [
       "array([0.04625])"
      ]
     },
     "execution_count": 207,
     "metadata": {},
     "output_type": "execute_result"
    }
   ],
   "source": [
    "# (a) Defining an equation\n",
    "eq_delta = lambda delta: -dy_model.H2(K=500, delta=delta)\n",
    "\n",
    "# (b) guess\n",
    "guess = 0.05\n",
    "\n",
    "# (b) Optimize\n",
    "sol = optimize.minimize(eq_delta, guess, bounds =((0,None),), method='Nelder-Mead')\n",
    "\n",
    "# (c) optimal delta\n",
    "sol['x']\n"
   ]
  },
  {
   "attachments": {},
   "cell_type": "markdown",
   "metadata": {},
   "source": [
    "Then, I plugg in the solution in H:"
   ]
  },
  {
   "cell_type": "code",
   "execution_count": 208,
   "metadata": {},
   "outputs": [
    {
     "data": {
      "text/plain": [
       "28.250821609091524"
      ]
     },
     "execution_count": 208,
     "metadata": {},
     "output_type": "execute_result"
    }
   ],
   "source": [
    "# (a) use delta = 0.46\n",
    "dy_model.H2(K=500, delta=0.04625)"
   ]
  },
  {
   "attachments": {},
   "cell_type": "markdown",
   "metadata": {},
   "source": [
    "My results seem a litte wierd, since profitability was larger with $\\Delta=0.05$ than $\\Delta=0.046$\n",
    "\n",
    "Unfortunately, I don't have time to dig into the problem."
   ]
  },
  {
   "attachments": {},
   "cell_type": "markdown",
   "metadata": {},
   "source": [
    "\n",
    "**Question 5:** Suggest an alternative policy you believe might improve profitability. Implement and test your policy.\n",
    "\n"
   ]
  },
  {
   "attachments": {},
   "cell_type": "markdown",
   "metadata": {},
   "source": [
    "An alternative policy that might improve the profitability is to have some employees initially. Therefore, the initial value is set to $\\ell_t=5$ instead of $\\ell_t=0$"
   ]
  },
  {
   "cell_type": "code",
   "execution_count": 177,
   "metadata": {},
   "outputs": [
    {
     "data": {
      "text/plain": [
       "28.614247357160963"
      ]
     },
     "execution_count": 177,
     "metadata": {},
     "output_type": "execute_result"
    }
   ],
   "source": [
    "# (a) Start with 2 employees:\n",
    "dy_model.H3(K=500, delta=0.05)"
   ]
  },
  {
   "attachments": {},
   "cell_type": "markdown",
   "metadata": {},
   "source": [
    "By starting with five employees instead of 0, the profit is given by 28.6. Therefore, it is more profitable to run with some employees from the very begining."
   ]
  },
  {
   "attachments": {},
   "cell_type": "markdown",
   "metadata": {},
   "source": [
    "## 3. <a id='toc3_'></a>[Problem 3: Global optimizer with refined multi-start](#toc0_)"
   ]
  },
  {
   "attachments": {},
   "cell_type": "markdown",
   "metadata": {},
   "source": [
    "We consider the Griewank function:\n",
    "\n",
    "$$ f(\\boldsymbol{x}) = \\sum^n_{i=1} \\frac{x^2_i}{4000}-\\prod^n_{i=1}\\cos\\left(\\frac{x_i}{\\sqrt{i}}\\right)+1$$\n",
    "\n",
    "The **global minimum** of this function is $f(0,0) = 0$ (remember: $\\cos(0)=1$).<br>\n",
    "But the function also have a lot of **local minima**."
   ]
  },
  {
   "cell_type": "code",
   "execution_count": 250,
   "metadata": {},
   "outputs": [],
   "source": [
    "def griewank(x):\n",
    "    return griewank_(x[0],x[1])\n",
    "    \n",
    "def griewank_(x1,x2):\n",
    "    A = x1**2/4000 + x2**2/4000\n",
    "    B = np.cos(x1/np.sqrt(1))*np.cos(x2/np.sqrt(2))\n",
    "    return A-B+1"
   ]
  },
  {
   "attachments": {},
   "cell_type": "markdown",
   "metadata": {},
   "source": [
    "As settings we choose:\n",
    "\n",
    "* $x_1,x_2 \\in  [-600,600]$\n",
    "* $\\tau = 10^{-8}$\n",
    "* $\\underline{K}=10$\n",
    "* $K=1000$\n",
    "\n",
    "The optimizer in Step 3.E is `BFGS` with a tolerance of $\\tau$."
   ]
  },
  {
   "attachments": {},
   "cell_type": "markdown",
   "metadata": {},
   "source": [
    "**Question 1:** Implement the refined global optimizer with multi-start. Illustrate how the effective initial guesses $\\mathbf{x}^{k0}$ vary with the iteration counter $k$."
   ]
  },
  {
   "attachments": {},
   "cell_type": "markdown",
   "metadata": {},
   "source": [
    "A **refined global optimizer with multi-start** is:\n",
    "\n",
    "1. Choose *bounds* for $\\mathbf{x}$ and *tolerance* $\\tau > 0$.\n",
    "2. Choose number of *warm-up iterations*, $\\underline{K} > 0$ and *maximum number of iterations*, $K > \\underline{K}$.\n",
    "3. In each iteration for $k \\in \\{0,1,\\dots,K-1\\}$:\n",
    "\n",
    "    A. Draw random $\\mathbf{x}^k$ uniformly within chosen bounds.\n",
    "\n",
    "    B. If $k < \\underline{K}$ go to step E.\n",
    "\n",
    "    C. Calculate $\\chi^k = 0.50\\cdot\\frac{2}{1+\\exp((k-\\underline{K})/100)}$  \n",
    "\n",
    "    D. Set $\\mathbf{x}^{k0} = \\chi^k \\mathbf{x}^k + (1-\\chi^k)\\mathbf{x}^{\\ast} $\n",
    "\n",
    "    E. Run optimizer with $\\mathbf{x}^{k0}$ as initial guess and $\\mathbf{x}^{k\\ast}$ as result.\n",
    "\n",
    "    F. Set $\\mathbf{x}^{\\ast} = \\mathbf{x}^{k\\ast}$ if $k = 0$ or $f(\\mathbf{x}^{k\\ast}) < f(\\mathbf{x}^{\\ast})$\n",
    "\n",
    "    G. If $f(\\mathbf{x}^{\\ast}) < \\tau$ go to step 4.\n",
    "\n",
    "4. Return the result $\\mathbf{x}^{\\ast}$."
   ]
  },
  {
   "attachments": {},
   "cell_type": "markdown",
   "metadata": {},
   "source": [
    "**1** Bounds: I define the bounds according to the assignment text: $x_1,x_2 \\in  [-600,600]$"
   ]
  },
  {
   "cell_type": "code",
   "execution_count": 274,
   "metadata": {},
   "outputs": [],
   "source": [
    "# (b) defining a random seed\n",
    "np.random.seed(1996)\n",
    "\n",
    "# (c) defining the initial guess\n",
    "x0s = -600 + 1200*np.random.uniform(size=(5000,2)) # in [-600,600]\n",
    "x0 = [-1.5,-1]"
   ]
  },
  {
   "attachments": {},
   "cell_type": "markdown",
   "metadata": {},
   "source": [
    "**2** Warm-up interactions*: I chose some starting values. "
   ]
  },
  {
   "cell_type": "code",
   "execution_count": 275,
   "metadata": {},
   "outputs": [],
   "source": [
    "# (a) Warm-up iterations\n",
    "K_underline = 10\n",
    "K_ = 1000\n",
    "\n",
    "# (d) defining space for remembering which x-values, I end up with\n",
    "xs = np.empty((5000,2))\n",
    "fs = np.empty(5000)"
   ]
  },
  {
   "attachments": {},
   "cell_type": "markdown",
   "metadata": {},
   "source": [
    "**3**: Then, I will solve it with BFGS aligned with the assignment:"
   ]
  },
  {
   "cell_type": "code",
   "execution_count": 277,
   "metadata": {},
   "outputs": [
    {
     "name": "stdout",
     "output_type": "stream",
     "text": [
      "\n",
      "The best solution is:\n",
      " x = (   9.42,   4.44) --> f =   0.02712538\n"
     ]
    }
   ],
   "source": [
    "# (a) Initializing\n",
    "f_opt = np.inf\n",
    "x_opt = np.nan\n",
    "\n",
    "# (b) Defining tolerate\n",
    "tau = 1e-8\n",
    "\n",
    "# (b) Running the code\n",
    "for i, x0 in enumerate(x0s):\n",
    "\n",
    "    # B: if-statement\n",
    "    if k < 10:\n",
    "\n",
    "        # E: optimizer\n",
    "        result = optimize.minimize(griewank, x0, method='BFGS', tol=tau)\n",
    "\n",
    "        # F: if-condition\n",
    "        if result.fun < f_opt:\n",
    "\n",
    "            f_opt = result.fun\n",
    "            x_opt = result.x\n",
    "\n",
    "            # G: if-condition\n",
    "            if f_opt < tau:\n",
    "        \n",
    "                # Break out of the loop if the tolerance is reached\n",
    "                break\n",
    "\n",
    "    else:\n",
    "        # C: chi^k\n",
    "        chi_k = 0.50 * (2 / (1 + np.exp((k - K_underline) / 100)))\n",
    "\n",
    "        # D: Calculate x^k0\n",
    "        x_k0 = chi_k * x_k + (1 - chi_k) * x_opt\n",
    "\n",
    "        # E: optimizer\n",
    "        result = optimize.minimize(griewank, x0, method='BFGS', tol=tau)\n",
    "\n",
    "        # F: if-condition\n",
    "        if result.fun < f_opt:\n",
    "\n",
    "            f_opt = result.fun\n",
    "            x_opt = result.x\n",
    "\n",
    "            # G: if-condition\n",
    "            if f_opt < tau:\n",
    "        \n",
    "                # Break out of the loop if the tolerance is reached\n",
    "                break\n",
    "\n",
    "\n",
    "# 4: return the solution\n",
    "print(f'\\nThe best solution is:\\n x = ({x_opt[0]:7.2f},{x_opt[1]:7.2f}) --> f = {f_opt:12.8f}')"
   ]
  },
  {
   "attachments": {},
   "cell_type": "markdown",
   "metadata": {},
   "source": [
    "**Question 2:** Is it a better idea to set $\\underline{K} = 100$? Is the convergence faster?"
   ]
  },
  {
   "attachments": {},
   "cell_type": "markdown",
   "metadata": {},
   "source": [
    "I set a new value for $\\underline{K} = 100$"
   ]
  },
  {
   "cell_type": "code",
   "execution_count": 266,
   "metadata": {},
   "outputs": [],
   "source": [
    "# (a) Warm-up iterations\n",
    "K_underline = 100\n",
    "K_ = 1000"
   ]
  },
  {
   "cell_type": "code",
   "execution_count": 278,
   "metadata": {},
   "outputs": [],
   "source": [
    "# (a) Initializing\n",
    "f_opt = np.inf\n",
    "x_opt = np.nan\n",
    "\n",
    "# (b) Defining tolerate\n",
    "tau = 1e-8\n",
    "\n",
    "# (b) Running the code\n",
    "for i, x0 in enumerate(x0s):\n",
    "\n",
    "    # B: if-statement\n",
    "    if k < 10:\n",
    "\n",
    "        # E: optimizer\n",
    "        result = optimize.minimize(griewank, x0, method='BFGS', tol=tau)\n",
    "\n",
    "        # F: if-condition\n",
    "        if result.fun < f_opt:\n",
    "\n",
    "            f_opt = result.fun\n",
    "            x_opt = result.x\n",
    "\n",
    "            # G: if-condition\n",
    "            if f_opt < tau:\n",
    "        \n",
    "                # Break out of the loop if the tolerance is reached\n",
    "                break\n",
    "\n",
    "    else:\n",
    "        # C: chi^k\n",
    "        chi_k = 0.50 * (2 / (1 + np.exp((k - K_underline) / 100)))\n",
    "\n",
    "        # D: Calculate x^k0\n",
    "        x_k0 = chi_k * x_k + (1 - chi_k) * x_opt\n",
    "\n",
    "        # E: optimizer\n",
    "        result = optimize.minimize(griewank, x0, method='BFGS', tol=tau)\n",
    "\n",
    "        # F: if-condition\n",
    "        if result.fun < f_opt:\n",
    "\n",
    "            f_opt = result.fun\n",
    "            x_opt = result.x\n",
    "\n",
    "            # G: if-condition\n",
    "            if f_opt < tau:\n",
    "        \n",
    "                # Break out of the loop if the tolerance is reached\n",
    "                break\n",
    "\n",
    "\n",
    "# 4: return the solution\n",
    "print(f'\\nThe best solution is:\\n x = ({x_opt[0]:7.2f},{x_opt[1]:7.2f}) --> f = {f_opt:12.8f}')"
   ]
  }
 ],
 "metadata": {
  "kernelspec": {
   "display_name": "base",
   "language": "python",
   "name": "python3"
  },
  "language_info": {
   "codemirror_mode": {
    "name": "ipython",
    "version": 3
   },
   "file_extension": ".py",
   "mimetype": "text/x-python",
   "name": "python",
   "nbconvert_exporter": "python",
   "pygments_lexer": "ipython3",
   "version": "3.9.15"
  },
  "orig_nbformat": 4
 },
 "nbformat": 4,
 "nbformat_minor": 2
}
