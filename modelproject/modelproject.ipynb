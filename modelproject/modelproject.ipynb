{
 "cells": [
  {
   "attachments": {},
   "cell_type": "markdown",
   "metadata": {},
   "source": [
    "# Over Lapping Generational Model"
   ]
  },
  {
   "cell_type": "markdown",
   "metadata": {},
   "source": [
    "Imports and set magics:"
   ]
  },
  {
   "cell_type": "code",
   "execution_count": 69,
   "metadata": {},
   "outputs": [
    {
     "name": "stdout",
     "output_type": "stream",
     "text": [
      "The autoreload extension is already loaded. To reload it, use:\n",
      "  %reload_ext autoreload\n"
     ]
    }
   ],
   "source": [
    "# (i) Import the following packages\n",
    "import numpy as np\n",
    "import scipy as sp\n",
    "from scipy import optimize\n",
    "import sympy as sm\n",
    "import matplotlib.pyplot as plt\n",
    "import ipywidgets as widgets\n",
    "import scipy.optimize as optimize\n",
    "\n",
    "# (ii) autoreload modules when code is run\n",
    "%load_ext autoreload\n",
    "%autoreload 2\n"
   ]
  },
  {
   "attachments": {},
   "cell_type": "markdown",
   "metadata": {},
   "source": [
    "### Introduction to the model"
   ]
  },
  {
   "attachments": {},
   "cell_type": "markdown",
   "metadata": {},
   "source": [
    "The paper examines an Over Lapping Generational model (OLG model), which is a long run growth model that accounts for consumer preferences. The agents live for two periods: t and t+1, while the government has infitnite horizons.\n",
    "\n",
    "The OLG model presents two ways frameworks:\n",
    "\n",
    "The first framework is based on private savings, so that all generations save for their own retirement. This framework is called 'fully funded'.\n",
    "\n",
    "The second framework is a 'pay-as-you-go system' (payg), which indicates, that the young generation pays for the old generation's retirement. The major challenge with this system occurs, when the young generation is smaller than the old generation - this is the case in the danish system.\n",
    "\n",
    "In this paper, only the fully funded framework is analyzed"
   ]
  },
  {
   "cell_type": "markdown",
   "metadata": {},
   "source": [
    "# Model description"
   ]
  },
  {
   "attachments": {},
   "cell_type": "markdown",
   "metadata": {},
   "source": [
    "### Population"
   ]
  },
  {
   "attachments": {},
   "cell_type": "markdown",
   "metadata": {},
   "source": [
    "\n",
    "Population is given by: \n",
    "\n",
    "$ \n",
    "\\begin{equation}\n",
    "(1) L_t=L_{t-1}(1+n)\n",
    "\\end{equation}\n",
    "$\n",
    "\n",
    "$L_t$ denotes the current young generation\n",
    "\n",
    "$L_{t-1}$ is the old generation who are still alive in the current period\n",
    "\n",
    "$n$ = growth rate"
   ]
  },
  {
   "cell_type": "code",
   "execution_count": 70,
   "metadata": {},
   "outputs": [],
   "source": [
    "# (i) Defining the two generations in alive in period t\n",
    "[LY_t, LO_t] = sm.symbols('L_t L_t-1')\n",
    "\n",
    "# (ii) Defining growth rate of population\n",
    "n = sm.symbols('n')\n",
    "\n",
    "# (iii) Defining equation (1):\n",
    "LY_t = LO_t*(1+n)"
   ]
  },
  {
   "attachments": {},
   "cell_type": "markdown",
   "metadata": {},
   "source": [
    "### Budget contraint for the young and old generation (BC)"
   ]
  },
  {
   "attachments": {},
   "cell_type": "markdown",
   "metadata": {},
   "source": [
    "As described in the introduction, only the young generation work, while the old generation is retired. Therefore, a share of the wage ($w_t$) is used when the agents are young ($c_{1t}$) and a part of the salery is saved for the retirement ($s_t$). The old generation consume ($c_{2t+1}$) their savings when they are old:\n",
    "\n",
    "$ \n",
    "\\begin{equation}\n",
    "(2) c_{1t} + s_t = w_t\n",
    "\\end{equation} $\n",
    "\n",
    "$ \n",
    "\\begin{equation}\n",
    "(3) c_{2t+1} = (1+r_{t+1})s_t\n",
    "\\end{equation} $\n",
    "\n",
    "\n",
    "\n"
   ]
  },
  {
   "cell_type": "code",
   "execution_count": 71,
   "metadata": {},
   "outputs": [],
   "source": [
    "# (i) Defining the parameters\n",
    "[w_t, s_t, r_t1, rho, c_1t, c_2t1] = sm.symbols('w_t s_t r_{t+1} rho c_{1t} c_{2t+1}')\n",
    "\n",
    "# (ii) Defining the parameters\n",
    "# (ii.a) Budget constraint for the young generation\n",
    "BC_Y = c_1t + s_t - w_t \n",
    "Y_help = sm.Eq(c_1t + s_t - w_t, 0)\n",
    "\n",
    "# (ii.b) Budget constraint for the old generation\n",
    "BC_O = (1 + r_t1) * s_t - c_2t1\n",
    "O_help = sm.Eq((1 + r_t1) * s_t - c_2t1, 0) "
   ]
  },
  {
   "attachments": {},
   "cell_type": "markdown",
   "metadata": {},
   "source": [
    "### Intertemporal budget constraint (IBC)"
   ]
  },
  {
   "attachments": {},
   "cell_type": "markdown",
   "metadata": {},
   "source": [
    "The intertemporal budget constraint is relevant to examines, because the equation consist of the consumption in period $t$ and $t+1$ for the same agent. Therefore, IBC can be defined as the lifetime budget constraint. IBC is found by substituting out the saving rate:\n",
    "\n",
    "$\n",
    "\\begin{equation}\n",
    "(3^*) s_t = c_{2t+1} / (1+r_{t+1})\n",
    "\\end{equation} $\n",
    "\n",
    "$ (3^*) \\rightarrow (2)$\n",
    "\n",
    "$\\begin{equation}\n",
    "  IBC (4): c_{1t} + c_{2t+1} / (1+r_{t+1}) = w_t \n",
    "\\end{equation} $ "
   ]
  },
  {
   "cell_type": "code",
   "execution_count": 72,
   "metadata": {},
   "outputs": [
    {
     "data": {
      "text/latex": [
       "$\\displaystyle c_{1t} + \\frac{c_{2t+1}}{r_{t+1} + 1} - w_{t}$"
      ],
      "text/plain": [
       "c_{1t} + c_{2t+1}/(r_{t+1} + 1) - w_t"
      ]
     },
     "execution_count": 72,
     "metadata": {},
     "output_type": "execute_result"
    }
   ],
   "source": [
    "# (i) Defining equation (3*)\n",
    "BC_Y_S = sm.solve(BC_Y, s_t) [0]\n",
    "\n",
    "# (ii) Substitution out saving rate in equation (2):\n",
    "IBC_1 = BC_O.subs(s_t, BC_Y_S)\n",
    "\n",
    "# (iii) Defining IBC (equation (4)) by isolating w_t\n",
    "IBC_2 = sm.solve(IBC_1, w_t) [0]\n",
    "IBC = (c_1t + c_2t1 / (1+r_t1) - w_t)\n",
    "\n",
    "# (iv) Visualizing IBC (equation (4))\n",
    "IBC"
   ]
  },
  {
   "attachments": {},
   "cell_type": "markdown",
   "metadata": {},
   "source": [
    "#### Consumer preferences"
   ]
  },
  {
   "attachments": {},
   "cell_type": "markdown",
   "metadata": {},
   "source": [
    "The agents maximizes their utility from their consumption:\n",
    "\n",
    "\n",
    "$\n",
    "\\begin{equation} \n",
    "(5) U_t = u(c_{1t}) + \\frac{1}{1+{\\rho}}  u(c_{2t+1})\n",
    "\\end{equation}$"
   ]
  },
  {
   "cell_type": "code",
   "execution_count": 73,
   "metadata": {},
   "outputs": [],
   "source": [
    "# (i) Defining utility for young generation\n",
    "U_Y = sm.log(c_1t)\n",
    "\n",
    "# (ii) Defining utility for old generation\n",
    "U_O = sm.log(c_2t1)\n",
    "\n",
    "# (i) Defining the overall utility\n",
    "U_t = U_Y + (1/(1+rho)) * U_O"
   ]
  },
  {
   "attachments": {},
   "cell_type": "markdown",
   "metadata": {},
   "source": [
    "#### Maximization problem"
   ]
  },
  {
   "attachments": {},
   "cell_type": "markdown",
   "metadata": {},
   "source": [
    "By combining the utility function (equation (5)) and the budget constraints (equation (2) and (3)), the optimization problem is given:\n",
    "\n",
    "$\n",
    "\\begin{equation}\n",
    "(6) max_{c_{1t}, c_{2t+1}} u(c_{1t}) + \\frac{1}{1+{\\rho}}  u(c_{2t+1})\n",
    "\\end{equation}\n",
    "$"
   ]
  },
  {
   "attachments": {},
   "cell_type": "markdown",
   "metadata": {},
   "source": [
    "Note that equation (4) is subject to equation (6)"
   ]
  },
  {
   "attachments": {},
   "cell_type": "markdown",
   "metadata": {},
   "source": [
    "$\\begin{equation}\n",
    "  IBC (4): c_{1t} + c_{2t+1} / (1+r_{t+1}) = w_t \n",
    "\\end{equation} $ "
   ]
  },
  {
   "attachments": {},
   "cell_type": "markdown",
   "metadata": {},
   "source": [
    "#### Firms"
   ]
  },
  {
   "attachments": {},
   "cell_type": "markdown",
   "metadata": {},
   "source": [
    "In OLG model, firms have the following Cobb Douglas productin function, which they optimize:\n",
    "\n",
    "$\\begin{equation}\n",
    " (7): Y_t = K_t^{\\alpha}L_t^{1-\\alpha}\n",
    "\\end{equation} $ \n",
    "\n",
    "\n",
    "$\\begin{equation}\n",
    " max  = Y_t - r_tK_t - w_tL_t\n",
    "\\end{equation} $ "
   ]
  },
  {
   "cell_type": "code",
   "execution_count": 74,
   "metadata": {},
   "outputs": [
    {
     "data": {
      "text/latex": [
       "$\\displaystyle K_{t}^{\\alpha} L_{t}^{1 - \\alpha}$"
      ],
      "text/plain": [
       "K_t**alpha*L_t**(1 - alpha)"
      ]
     },
     "execution_count": 74,
     "metadata": {},
     "output_type": "execute_result"
    }
   ],
   "source": [
    "# (i) Defining the varibales\n",
    "[K_t, L_t, delta, kt, kt1, k_ss, alpha, sigma, lambdaa] = sm.symbols('K_t L_t Delta k_t k_{t1} k* alpha sigma lambda')\n",
    "\n",
    "# (ii) Defining the production function of the firms\n",
    "Y_t = K_t ** alpha * L_t ** (1-alpha)\n",
    "\n",
    "# (iii) Visualizing the production function\n",
    "Y_t"
   ]
  },
  {
   "attachments": {},
   "cell_type": "markdown",
   "metadata": {},
   "source": [
    "The level of wage ($w_t$) and rate of capital ($r_t$) is given by the first derivaties of production function\n",
    "\n",
    "\n",
    "$\\begin{equation}\n",
    " \\frac{\\partial Y_t}{\\partial K_t} \n",
    "\\end{equation} $ \n",
    "\n",
    "$\\begin{equation}\n",
    " \\frac{\\partial Y_t}{\\partial L_t} \n",
    "\\end{equation} $ "
   ]
  },
  {
   "cell_type": "code",
   "execution_count": 75,
   "metadata": {},
   "outputs": [
    {
     "data": {
      "text/latex": [
       "$\\displaystyle K_{t}^{\\alpha - 1} L_{t}^{1 - \\alpha} \\alpha$"
      ],
      "text/plain": [
       "K_t**(alpha - 1)*L_t**(1 - alpha)*alpha"
      ]
     },
     "execution_count": 75,
     "metadata": {},
     "output_type": "execute_result"
    }
   ],
   "source": [
    "# (i) Defining the rate of catipal\n",
    "r_t = sm.diff(Y_t, K_t)\n",
    "r_t = sm.simplify(r_t)\n",
    "\n",
    "# (ii) Visuzalizing the rate of capial\n",
    "r_t"
   ]
  },
  {
   "cell_type": "code",
   "execution_count": 76,
   "metadata": {},
   "outputs": [
    {
     "data": {
      "text/latex": [
       "$\\displaystyle w_{t}$"
      ],
      "text/plain": [
       "w_t"
      ]
     },
     "execution_count": 76,
     "metadata": {},
     "output_type": "execute_result"
    }
   ],
   "source": [
    "# (i) Defining the wage\n",
    "w_t_ = sm.diff(Y_t, L_t)\n",
    "w_t_ = sm.simplify(w_t)\n",
    "\n",
    "# (ii) Visuzalizing the wage\n",
    "w_t_"
   ]
  },
  {
   "attachments": {},
   "cell_type": "markdown",
   "metadata": {},
   "source": [
    "#### Lagrangian"
   ]
  },
  {
   "attachments": {},
   "cell_type": "markdown",
   "metadata": {},
   "source": [
    "The maximization problem is solved by a Lagrangian framework:\n",
    "\n",
    "\n",
    "$\\begin{equation}\n",
    "(8) L  = u(c_{1t}) +  \\frac{1}{ 1+\\rho}  u(c_{2t+1}) + \\lambda \\bigg[w_t - c_t - \\frac{1}{ 1+r_t - \\delta}\\bigg]\n",
    "\\end{equation} $ \n"
   ]
  },
  {
   "cell_type": "code",
   "execution_count": 77,
   "metadata": {},
   "outputs": [
    {
     "data": {
      "text/latex": [
       "$\\displaystyle - \\lambda \\left(c_{1t} + \\frac{c_{2t+1}}{r_{t+1} + 1} - w_{t}\\right) + \\log{\\left(c_{1t} \\right)} + \\frac{\\log{\\left(c_{2t+1} \\right)}}{\\rho + 1}$"
      ],
      "text/plain": [
       "-lambda*(c_{1t} + c_{2t+1}/(r_{t+1} + 1) - w_t) + log(c_{1t}) + log(c_{2t+1})/(rho + 1)"
      ]
     },
     "execution_count": 77,
     "metadata": {},
     "output_type": "execute_result"
    }
   ],
   "source": [
    "# (i) Defining the Lagrangian\n",
    "L = sm.symbols('L')\n",
    "\n",
    "# (ii) Defining lagrange equation\n",
    "Lagrange = U_t - lambdaa * IBC\n",
    "\n",
    "# (iii) Visualizing the lagrange equation\n",
    "Lagrange"
   ]
  },
  {
   "attachments": {},
   "cell_type": "markdown",
   "metadata": {},
   "source": [
    "\n",
    "Then the derivatives wrt. consumption for both generations are taken:\n",
    "\n",
    "\n",
    "$\\begin{equation}\n",
    " \\frac{\\partial L}{\\partial c_{1t}}  = 0 \n",
    "\\end{equation} $ \n",
    "\n",
    "$\\begin{equation}\n",
    " \\frac{\\partial L}{\\partial c_{2t+1}}  = 0 \n",
    "\\end{equation} $ \n",
    "\n",
    "$\\begin{equation}\n",
    "  \\frac{1}{ 1+\\rho}  u'(c_{2t+1}) = \\lambda \\frac{1}{ 1+r_{t+1} - \\delta}\n",
    "\\end{equation} $ "
   ]
  },
  {
   "cell_type": "code",
   "execution_count": 78,
   "metadata": {},
   "outputs": [
    {
     "data": {
      "text/latex": [
       "$\\displaystyle \\frac{1}{c_{1t}}$"
      ],
      "text/plain": [
       "1/c_{1t}"
      ]
     },
     "execution_count": 78,
     "metadata": {},
     "output_type": "execute_result"
    }
   ],
   "source": [
    "# (i) FOC of Lagrange:\n",
    "def FOC(x):\n",
    "    Lagrange1 = sm.diff(Lagrange, x)\n",
    "    Lagrange2 = sm.Eq(Lagrange1, 0)\n",
    "    Lagrange3 = sm.solve(Lagrange2, lambdaa) [0]\n",
    "    return Lagrange3\n",
    "\n",
    "# (ii) Finding FOC for consumption for both generations\n",
    "Lagrange_c1 = FOC(c_2t1)\n",
    "Lagrange_c2 = FOC(c_1t)\n",
    "\n",
    "# (ii) Visualizing FOC\n",
    "Lagrange_c1\n",
    "Lagrange_c2"
   ]
  },
  {
   "attachments": {},
   "cell_type": "markdown",
   "metadata": {},
   "source": [
    "By combining these results, the Euler equation yields:\n",
    "\n",
    "$\\begin{equation}\n",
    "  (9) \n",
    "u'(c_{1t}) = \\frac{1+r_{t+1} - \\delta}{ 1+\\rho}  u'(c_{2t+1}) \n",
    "\\end{equation} $ \n",
    "\n",
    "The Euler equation reports how an agent devided his / her consumption between his / her young period and old period. Therefore, the equation describes the marginal cost of giving up one unit of consumption today"
   ]
  },
  {
   "cell_type": "code",
   "execution_count": 79,
   "metadata": {},
   "outputs": [
    {
     "data": {
      "text/latex": [
       "$\\displaystyle c_{1t} = \\frac{c_{2t+1} \\left(\\rho + 1\\right)}{r_{t+1} + 1}$"
      ],
      "text/plain": [
       "Eq(c_{1t}, c_{2t+1}*(rho + 1)/(r_{t+1} + 1))"
      ]
     },
     "execution_count": 79,
     "metadata": {},
     "output_type": "execute_result"
    }
   ],
   "source": [
    "# (i) Defining the Euler equation (equation (9))\n",
    "E = sm.Eq(Lagrange_c1, Lagrange_c2)\n",
    "E = sm.solve(E, c_1t) [0]\n",
    "Euler = sm.Eq(c_1t, E)\n",
    "\n",
    "# (ii) Visualizing the Euler equation\n",
    "Euler"
   ]
  },
  {
   "attachments": {},
   "cell_type": "markdown",
   "metadata": {},
   "source": [
    "#### Saving rate"
   ]
  },
  {
   "attachments": {},
   "cell_type": "markdown",
   "metadata": {},
   "source": [
    "Since the framework is based on a fully funded system, it is relevant to examine the optimal saving rate.\n",
    "\n",
    "By rearrangingthe budget contraints for both generaions (equation (2) and (3)) and set them into the Euler equation, the optimal saving rate is given;"
   ]
  },
  {
   "cell_type": "code",
   "execution_count": 80,
   "metadata": {},
   "outputs": [
    {
     "data": {
      "text/latex": [
       "$\\displaystyle - s_{t} + w_{t} = \\frac{c_{2t+1} \\left(\\rho + 1\\right)}{r_{t+1} + 1}$"
      ],
      "text/plain": [
       "Eq(-s_t + w_t, c_{2t+1}*(rho + 1)/(r_{t+1} + 1))"
      ]
     },
     "execution_count": 80,
     "metadata": {},
     "output_type": "execute_result"
    }
   ],
   "source": [
    "# (i) Re-arranging the budget constraints\n",
    "BC_Y_s = w_t - s_t\n",
    "BC_O_s = (1+r_t1) * s_t\n",
    "\n",
    "# (ii) Substituting the re-arranged budget constraints into the Euler equation\n",
    "s_c1 = Euler.subs(c_1t, BC_Y_s)\n",
    "s_c2 = s_c1.subs(c_2t1, BC_O_s)\n",
    "\n",
    "# (iii) Visualizing the optimal saving rate\n",
    "s_c1"
   ]
  },
  {
   "attachments": {},
   "cell_type": "markdown",
   "metadata": {},
   "source": [
    "Then consumpting for the old generation is substituted out:"
   ]
  },
  {
   "cell_type": "code",
   "execution_count": 81,
   "metadata": {},
   "outputs": [
    {
     "data": {
      "text/latex": [
       "$\\displaystyle s_{t} = \\frac{w_{t}}{\\rho + 2}$"
      ],
      "text/plain": [
       "Eq(s_t, w_t/(rho + 2))"
      ]
     },
     "execution_count": 81,
     "metadata": {},
     "output_type": "execute_result"
    }
   ],
   "source": [
    "# (i) Substutiting consumption for the old generation out\n",
    "s_a = sm.solve(s_c2, s_t) [0]\n",
    "s_b = sm.Eq(s_t, s_a)\n",
    "\n",
    "# (ii) Visualizing the optimal saving rate\n",
    "s_b"
   ]
  },
  {
   "attachments": {},
   "cell_type": "markdown",
   "metadata": {},
   "source": [
    "#### Steady state (ss)"
   ]
  },
  {
   "attachments": {},
   "cell_type": "markdown",
   "metadata": {},
   "source": [
    "To define steady state for capital, the aggregated capital accumulaiton needs to be defined. The capital in period t+1 is given by equation (10):\n",
    "\n",
    "$ \\begin{equation}\n",
    "K_{t+1} = \\underbrace{S_t}_{s_tL_t} - (1-\\delta)K_t + (1-\\delta) K_t \\Leftrightarrow\n",
    "\\end{equation} $\n",
    "\n",
    "$ \\begin{equation}\n",
    "K_{t+1} = S_t \n",
    "\\end{equation} $\n",
    "\n",
    "Capital per worker is given by:\n",
    "$ \\begin{equation}\n",
    "\\frac{K_{t+1}}{L_{t}} = \\frac{S_t}{L_{t}} \\Leftrightarrow\n",
    "\\end{equation} $ \n",
    "$ \\begin{equation}\n",
    "\\frac{K_{t}}{L_{t+1}} = s_t \\Leftrightarrow\n",
    "\\end{equation} $ \n",
    "$ \\begin{equation}\n",
    "\\frac{K_{t+1}}{L_{t+1}} * \\frac{L_{t+1}}{L_{t}}= s_t \\Leftrightarrow\n",
    "\\end{equation} $ \n",
    "$ \\begin{equation}\n",
    "k_{t+1} * (1+n)= s_t \n",
    "\\end{equation} $ \n",
    "\n",
    "And since the optimal saving rate is given by \n",
    "\n",
    "$ \\begin{equation}\n",
    "s_t = \\frac{w_t}{2+\\rho}\n",
    "\\end{equation} $ \n",
    "\n",
    "and the wage is given by:\n",
    "\n",
    "$ \\begin{equation}\n",
    "w_t = k^\\alpha (1-\\alpha)\n",
    "\\end{equation} $ \n",
    "\n",
    "The capital accumulation per worker is defined as:\n",
    "$ \\begin{equation}\n",
    "k_{t+1} * (1+n)= \\frac{k^\\alpha (1-\\alpha)}{2+\\rho}\n",
    "\\end{equation} $ \n"
   ]
  },
  {
   "attachments": {},
   "cell_type": "markdown",
   "metadata": {},
   "source": [
    "Capital in steady state is given by: \n",
    "\n",
    "$ \\begin{equation}\n",
    "k_{t+1} = k_t = k^*\n",
    "\\end{equation} $"
   ]
  },
  {
   "cell_type": "code",
   "execution_count": 82,
   "metadata": {},
   "outputs": [
    {
     "data": {
      "text/latex": [
       "$\\displaystyle k* \\left(n + 1\\right) = \\frac{k*^{\\alpha} \\left(1 - \\alpha\\right)}{\\rho + 2}$"
      ],
      "text/plain": [
       "Eq(k**(n + 1), k***alpha*(1 - alpha)/(rho + 2))"
      ]
     },
     "execution_count": 82,
     "metadata": {},
     "output_type": "execute_result"
    }
   ],
   "source": [
    "# (i) Defining capital accumulation per worker in ss\n",
    "cap_w_ss = sm.Eq(k_ss * (1+n), (((k_ss ** alpha ) * (1 - alpha) / (2+rho))))\n",
    "\n",
    "# (ii) Visualizing capital acc. in ss\n",
    "cap_w_ss"
   ]
  },
  {
   "attachments": {},
   "cell_type": "markdown",
   "metadata": {},
   "source": [
    "Then, steady state is found:"
   ]
  },
  {
   "cell_type": "code",
   "execution_count": 83,
   "metadata": {},
   "outputs": [
    {
     "data": {
      "text/latex": [
       "$\\displaystyle k* = \\left(\\frac{1 - \\alpha}{n \\rho + 2 n + \\rho + 2}\\right)^{- \\frac{1}{\\alpha - 1}}$"
      ],
      "text/plain": [
       "Eq(k*, ((1 - alpha)/(n*rho + 2*n + rho + 2))**(-1/(alpha - 1)))"
      ]
     },
     "metadata": {},
     "output_type": "display_data"
    }
   ],
   "source": [
    "# (i) Solving for steady state\n",
    "ss = sm.Eq(k_ss, (((1 - alpha) * (k_ss ** alpha)) / ((2 + rho) * (1 + n))))\n",
    "c_ss = sm.solve(cap_w_ss, k_ss) [0]\n",
    "\n",
    "# (ii) Visualizing capital in ss\n",
    "display(sm.Eq(k_ss,c_ss))"
   ]
  },
  {
   "attachments": {},
   "cell_type": "markdown",
   "metadata": {},
   "source": [
    "Now, the steady state for capital is found. Then, the analytical solution can be reported"
   ]
  },
  {
   "cell_type": "markdown",
   "metadata": {},
   "source": [
    "## Analytical solution"
   ]
  },
  {
   "attachments": {},
   "cell_type": "markdown",
   "metadata": {},
   "source": [
    "Based on litterature, it is reasonable to let $\\alpha=1/3$. Alpha is the share of capital in the production. When $\\alpha=1/3$, it implies that the share of labour in the production is $2/3$\n",
    "\n",
    "$\\rho\\ is the consumer preferences, which is individually decided. Therefore, it is obvious to set $\\rho=0.5$ to make the result as average as possible. \n",
    "\n",
    "Finally, n denotes the population growth rate as describes earlier. The estimated population growth in 2021 was 5.8 pct. in Denmark. "
   ]
  },
  {
   "cell_type": "code",
   "execution_count": 84,
   "metadata": {},
   "outputs": [
    {
     "data": {
      "text/plain": [
       "0.13651665910112698"
      ]
     },
     "execution_count": 84,
     "metadata": {},
     "output_type": "execute_result"
    }
   ],
   "source": [
    "# (i) Defining the transition curve\n",
    "ss_curve = sm.lambdify((alpha, n, rho), c_ss)\n",
    "\n",
    "# (ii) Defining the function by the defined values\n",
    "ss_curve(1/3, 0.0058, 0.5)"
   ]
  },
  {
   "attachments": {},
   "cell_type": "markdown",
   "metadata": {},
   "source": [
    "The analytical solution report that the steady state value of capital per worker is given by: $k^*=0.137$"
   ]
  },
  {
   "cell_type": "markdown",
   "metadata": {},
   "source": [
    "## Numerical solution"
   ]
  },
  {
   "attachments": {},
   "cell_type": "markdown",
   "metadata": {},
   "source": [
    "The parameters are defined:"
   ]
  },
  {
   "cell_type": "code",
   "execution_count": 93,
   "metadata": {},
   "outputs": [
    {
     "data": {
      "text/plain": [
       "      converged: True\n",
       "           flag: 'converged'\n",
       " function_calls: 8\n",
       "     iterations: 7\n",
       "           root: 0.13651665910112806"
      ]
     },
     "execution_count": 93,
     "metadata": {},
     "output_type": "execute_result"
    }
   ],
   "source": [
    "# (i) Defining the parameters\n",
    "alpha = 1/3 \n",
    "n = 0.0058\n",
    "rho = 0.5\n",
    "\n",
    "# (ii) Defining the function\n",
    "num_ss_curve = lambda k_ss: k_ss - (1-alpha) * (k_ss ** alpha) / ((2+rho) * (1+n))\n",
    "\n",
    "# (iii) Defining the optimization equation\n",
    "result = optimize.root_scalar(num_ss_curve, bracket=[0.1,100], method='brentq')\n",
    "# (iv) Visualizing the optimization result\n",
    "result"
   ]
  },
  {
   "attachments": {},
   "cell_type": "markdown",
   "metadata": {},
   "source": [
    "Aligned with the analytical solution, the nummerical solution reports that the steady state value of capital per worker is given by: $k^*= 0.137$."
   ]
  },
  {
   "attachments": {},
   "cell_type": "markdown",
   "metadata": {},
   "source": [
    "# The transition to steady state"
   ]
  },
  {
   "attachments": {},
   "cell_type": "markdown",
   "metadata": {},
   "source": [
    "To visualize how the capital per worker moves toward it's steady state, the capital accumulation equation is defined:"
   ]
  },
  {
   "cell_type": "code",
   "execution_count": 108,
   "metadata": {},
   "outputs": [
    {
     "data": {
      "text/plain": [
       "Text(0.5, 1.0, 'Figure 1: Transition towards steady state for capital per worker')"
      ]
     },
     "execution_count": 108,
     "metadata": {},
     "output_type": "execute_result"
    },
    {
     "data": {
      "image/png": "[encoded data removed]",
      "text/plain": [
       "<Figure size 640x480 with 1 Axes>"
      ]
     },
     "metadata": {},
     "output_type": "display_data"
    }
   ],
   "source": [
    "# (i) Defining the transition function\n",
    "def transition(k_t):  \n",
    "        return ((k_t ** alpha) * (1 - alpha)) / ((2 + rho) * (1 + n))\n",
    "\n",
    "# (ii) Defining k_t\n",
    "k_t = np.linspace(0, 1, 5000)\n",
    "\n",
    "# (iii) Defining the figure\n",
    "Figure_ss = plt.figure()\n",
    "ax = Figure_ss.add_subplot(1, 1, 1)\n",
    "ax.plot(k_t, transition(k_t), color='pink')\n",
    "ax.plot(k_t, k_t, color='red')\n",
    "\n",
    "# (iv) Adjusting the figure\n",
    "ax.set_xlim([0,0.2])\n",
    "ax.set_ylim([0,0.2])\n",
    "ax.set_xlabel('$k_t$')\n",
    "ax.set_ylabel('$k_{t+1}$')\n",
    "plt.text(0.13,0.12,'$k^*$ = 0,136')\n",
    "ax.set_title('Figure 1: Transition towards steady state for capital per worker')\n"
   ]
  },
  {
   "cell_type": "markdown",
   "metadata": {},
   "source": [
    "# Conclusion"
   ]
  },
  {
   "attachments": {},
   "cell_type": "markdown",
   "metadata": {},
   "source": [
    "This paper has solved the OLG model with a fully funded system. From the analytical and nummerical results, the steady state of capital per worker is 0.136, which is illustrated in figure 1.\n",
    "\n"
   ]
  }
 ],
 "metadata": {
  "kernelspec": {
   "display_name": "base",
   "language": "python",
   "name": "python3"
  },
  "language_info": {
   "codemirror_mode": {
    "name": "ipython",
    "version": 3
   },
   "file_extension": ".py",
   "mimetype": "text/x-python",
   "name": "python",
   "nbconvert_exporter": "python",
   "pygments_lexer": "ipython3",
   "version": "3.9.16"
  },
  "toc-autonumbering": true,
  "vscode": {
   "interpreter": {
    "hash": "47ef90cdf3004d3f859f1fb202523c65c07ba7c22eefd261b181f4744e2d0403"
   }
  }
 },
 "nbformat": 4,
 "nbformat_minor": 4
}
