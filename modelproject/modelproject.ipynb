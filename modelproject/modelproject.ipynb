{
 "cells": [
  {
   "attachments": {},
   "cell_type": "markdown",
   "metadata": {},
   "source": [
    "# Model project: *Over Lapping Generational Model*"
   ]
  },
  {
   "attachments": {},
   "cell_type": "markdown",
   "metadata": {},
   "source": [
    "Imports and set magics:"
   ]
  },
  {
   "cell_type": "code",
   "execution_count": 285,
   "metadata": {},
   "outputs": [
    {
     "name": "stdout",
     "output_type": "stream",
     "text": [
      "The autoreload extension is already loaded. To reload it, use:\n",
      "  %reload_ext autoreload\n"
     ]
    }
   ],
   "source": [
    "# (a) Import python modules\n",
    "import numpy as np\n",
    "from scipy import optimize\n",
    "import sympy as sm\n",
    "from types import SimpleNamespace\n",
    "import matplotlib.pyplot as plt\n",
    "import ipywidgets as widgets\n",
    "\n",
    "# (b) autoreload modules when code is run\n",
    "%load_ext autoreload\n",
    "%autoreload 2\n",
    "\n",
    "# (c) import models\n",
    "import analytical as ana\n",
    "import nummerical as num"
   ]
  },
  {
   "attachments": {},
   "cell_type": "markdown",
   "metadata": {},
   "source": [
    "## **Introduction to the model**"
   ]
  },
  {
   "attachments": {},
   "cell_type": "markdown",
   "metadata": {},
   "source": [
    "In my model project, I have chosen to examine an *Over Lapping Generational* model (OLG model), which is a long run growth model that accounts for consumer preferences. \n",
    "\n",
    "In the model, the agents live for two periods: *t* and *t+1*, while the government has infitnite horizons. The agents are divided into the young generation and and the old generation, and their consumption is given by $C_{1t}$ and $C_{2t+1}$, respectively.\n",
    "\n",
    "Time is discrete and indexed by $t\\epsilon (0, 1, 2, ...)$\n",
    "\n",
    "The OLG model presents two frameworks:\n",
    "\n",
    "* The first framework is based on private savings, so all generations save for their own retirement. This framework is called *fully funded*.\n",
    "\n",
    "* The second framework is a *pay-as-you-go system* (payg), where the young generation pays for the old generation's retirement. The major challenge with this system occurs, when the young generation is smaller than the old generation, which is the current case in Denmark.\n",
    "\n",
    "Since Denmark is based on a PAYG-system, I will examine this system in the following analysis:"
   ]
  },
  {
   "attachments": {},
   "cell_type": "markdown",
   "metadata": {},
   "source": [
    "## **Model description**"
   ]
  },
  {
   "attachments": {},
   "cell_type": "markdown",
   "metadata": {},
   "source": [
    "### *Population*"
   ]
  },
  {
   "attachments": {},
   "cell_type": "markdown",
   "metadata": {},
   "source": [
    "\n",
    "Population is given by: \n",
    "\n",
    "$$\n",
    "\\begin{aligned}\n",
    "L_t=L_{t-1}(1+n)\n",
    "\\end{aligned}\n",
    "$$\n",
    "\n",
    "$L_t$ denotes the current young generation\n",
    "\n",
    "$L_{t-1}$ is the old generation who are still alive in the current period\n",
    "\n",
    "$n$ = growth rate"
   ]
  },
  {
   "attachments": {},
   "cell_type": "markdown",
   "metadata": {},
   "source": [
    "#### *Consumer's utility function*"
   ]
  },
  {
   "attachments": {},
   "cell_type": "markdown",
   "metadata": {},
   "source": [
    "The consumers maximize their utility from their income. Notice that the consumers face a trade-off when decide whether to consume now and save later or vice versa.\n",
    "\n",
    "\n",
    "$$\n",
    "\\begin{aligned} \n",
    "U_t = log(c_{1t}) + \\beta log(c_{2t+1})\\\\\n",
    "\\beta =\\frac{1}{1+{\\rho}}\n",
    "\\end{aligned}\n",
    "$$"
   ]
  },
  {
   "attachments": {},
   "cell_type": "markdown",
   "metadata": {},
   "source": [
    "### *Budget contraints (BC)*"
   ]
  },
  {
   "attachments": {},
   "cell_type": "markdown",
   "metadata": {},
   "source": [
    "As described in the introduction, only the young generation works, while the old generation is retired. Do to the PAYG-structure, the young generation is subject to income taxation ($\\tau$). Furthermore, the young generation saves some of their income for their retirement ($s_t$).\n",
    "\n",
    "The old generation consumes their savings (plus the interest income from their savings) and the public retirement ($d_{t+1}$)\n",
    "\n",
    "$$\n",
    "\\begin{aligned}\n",
    "&c_{1t} = w_t(1-\\tau) - s_t\\\\\n",
    "&c_{2t+1} = (1+r_{t+1})s_t + (1+n)d_{t+1}\n",
    "\\end{aligned} \n",
    "$$\n",
    "\n",
    "\n",
    "\n"
   ]
  },
  {
   "attachments": {},
   "cell_type": "markdown",
   "metadata": {},
   "source": [
    "### *Consumer's maximization problem*"
   ]
  },
  {
   "attachments": {},
   "cell_type": "markdown",
   "metadata": {},
   "source": [
    "The young generation's maximization problem is as follows:\n",
    "\n",
    "$$\n",
    "\\begin{aligned} \n",
    "U_t = log(c_{1t}) + \\beta log(c_{2t+1})\\\\\n",
    "st.\\\\\n",
    "c_{1t} = w_t(1-\\tau) - s_t\\\\\n",
    "c_{2t+1} = (1+r_{t+1})s_t + (1+n)d_{t+1}\n",
    "\\end{aligned}\n",
    "$$"
   ]
  },
  {
   "attachments": {},
   "cell_type": "markdown",
   "metadata": {},
   "source": [
    "### *Firms*"
   ]
  },
  {
   "attachments": {},
   "cell_type": "markdown",
   "metadata": {},
   "source": [
    "In the model, firms operate according to a Cobb Douglas productin function. This implies that only capital $(K_t)$ and labour $(L_t)$ are input factors in the production function. $\\alpha$ is the share of output that goes to capital and so $(1-\\alpha)$ goes to labour\n",
    "$$\\begin{aligned}\n",
    " Y_t = K_t^{\\alpha}L_t^{1-\\alpha}\n",
    "\\end{aligned} \n",
    "$$ \n",
    "\n",
    "\n",
    "Based on the assumption that capital decressiated completely each period $(\\delta=1)$, firm's maximization problems is as follows:\n",
    "\n",
    "\n",
    "$$\n",
    "\\begin{aligned}\n",
    " max \\Pi  = K_t^{\\alpha}L_t^{1-\\alpha} - r_tK_t - w_tL_t\n",
    "\\end{aligned} \n",
    "$$ "
   ]
  },
  {
   "attachments": {},
   "cell_type": "markdown",
   "metadata": {},
   "source": [
    "## **Analytical solution**"
   ]
  },
  {
   "attachments": {},
   "cell_type": "markdown",
   "metadata": {},
   "source": [
    "First of all, I import my OLG model from my py-file:"
   ]
  },
  {
   "cell_type": "code",
   "execution_count": 286,
   "metadata": {},
   "outputs": [],
   "source": [
    "# (a) Importing the OLG-model for analytical solution\n",
    "model_a = ana.OLGmodelanalytical()\n",
    "par = model_a.par"
   ]
  },
  {
   "attachments": {},
   "cell_type": "markdown",
   "metadata": {},
   "source": [
    "Secondly, I print the **Euler Equation**:"
   ]
  },
  {
   "cell_type": "code",
   "execution_count": 287,
   "metadata": {},
   "outputs": [
    {
     "name": "stdout",
     "output_type": "stream",
     "text": [
      "Consumers utility function:\n"
     ]
    },
    {
     "data": {
      "text/latex": [
       "$\\displaystyle U_{t} = \\log{\\left(c_{1t} \\right)} + \\frac{\\log{\\left(c_{2t+1} \\right)}}{\\rho + 1}$"
      ],
      "text/plain": [
       "Eq(U_t, log(c_{1t}) + log(c_{2t+1})/(rho + 1))"
      ]
     },
     "metadata": {},
     "output_type": "display_data"
    },
    {
     "name": "stdout",
     "output_type": "stream",
     "text": [
      "Intertemporal budget constraint:\n"
     ]
    },
    {
     "data": {
      "text/latex": [
       "$\\displaystyle 0 = - w_{t} \\left(1 - \\tau\\right) + \\frac{c_{1t} r_{t+1} + c_{1t} + c_{2t+1} - n \\tau - n w_{t+1} - \\tau - w_{t+1}}{r_{t+1} + 1}$"
      ],
      "text/plain": [
       "Eq(0, -w_t*(1 - tau) + (c_{1t}*r_{t+1} + c_{1t} + c_{2t+1} - n*tau - n*w_{t+1} - tau - w_{t+1})/(r_{t+1} + 1))"
      ]
     },
     "metadata": {},
     "output_type": "display_data"
    },
    {
     "name": "stdout",
     "output_type": "stream",
     "text": [
      "The Euler Equation:\n"
     ]
    },
    {
     "data": {
      "text/latex": [
       "$\\displaystyle \\frac{c_{2t+1} \\left(\\rho + 1\\right)}{r_{t+1} + 1} = c_{1t}$"
      ],
      "text/plain": [
       "Eq(c_{2t+1}*(rho + 1)/(r_{t+1} + 1), c_{1t})"
      ]
     },
     "execution_count": 287,
     "metadata": {},
     "output_type": "execute_result"
    }
   ],
   "source": [
    "# (a) Consumer's utility function\n",
    "print('Consumers utility function:')\n",
    "display(sm.Eq(par.U_t, model_a.utility()))\n",
    "\n",
    "\n",
    "# (b) IBC\n",
    "print('Intertemporal budget constraint:')\n",
    "display(sm.Eq(0, model_a.consumerBC()))\n",
    "\n",
    "\n",
    "# (c) Euler equation\n",
    "print('The Euler Equation:')\n",
    "model_a.eulerequation()"
   ]
  },
  {
   "attachments": {},
   "cell_type": "markdown",
   "metadata": {},
   "source": [
    "Thirdly, I find the **optimal saving rate** by substituting the Euler Equation into the BC. The optimal saving rate, $(s_t)$ is determined by the consumer's preferences."
   ]
  },
  {
   "cell_type": "code",
   "execution_count": 288,
   "metadata": {},
   "outputs": [
    {
     "name": "stdout",
     "output_type": "stream",
     "text": [
      "Optimal saving:\n"
     ]
    },
    {
     "data": {
      "text/latex": [
       "$\\displaystyle s_{t} = \\frac{w_{t} \\left(- r_{t+1} \\tau + r_{t+1} - \\tau + 1\\right) + w_{t+1} \\left(- n \\rho \\tau - n \\tau - \\rho \\tau - \\tau\\right)}{r_{t+1} \\rho + 2 r_{t+1} + \\rho + 2}$"
      ],
      "text/plain": [
       "Eq(s_t, (w_t*(-r_{t+1}*tau + r_{t+1} - tau + 1) + w_{t+1}*(-n*rho*tau - n*tau - rho*tau - tau))/(r_{t+1}*rho + 2*r_{t+1} + rho + 2))"
      ]
     },
     "metadata": {},
     "output_type": "display_data"
    }
   ],
   "source": [
    "# (a) Optimal savings\n",
    "print('Optimal saving:')\n",
    "display(sm.Eq(par.s_t, model_a.Optimalsaving()))"
   ]
  },
  {
   "attachments": {},
   "cell_type": "markdown",
   "metadata": {},
   "source": [
    "Then, I find the equation for **capital accumulation**:"
   ]
  },
  {
   "cell_type": "code",
   "execution_count": 289,
   "metadata": {},
   "outputs": [
    {
     "name": "stdout",
     "output_type": "stream",
     "text": [
      "Capital accumulation:\n"
     ]
    },
    {
     "data": {
      "text/latex": [
       "$\\displaystyle k_{t+1} = \\frac{A k_{t}^{\\alpha} \\left(1 - \\alpha\\right) \\left(1 - \\tau\\right)}{\\left(1 + \\frac{\\tau \\left(1 - \\alpha\\right) \\left(\\rho + 1\\right)}{\\alpha \\left(\\rho + 2\\right)}\\right) \\left(n + 1\\right) \\left(\\rho + 2\\right)}$"
      ],
      "text/plain": [
       "Eq(k_{t+1}, A*k_t**alpha*(1 - alpha)*(1 - tau)/((1 + tau*(1 - alpha)*(rho + 1)/(alpha*(rho + 2)))*(n + 1)*(rho + 2)))"
      ]
     },
     "execution_count": 289,
     "metadata": {},
     "output_type": "execute_result"
    }
   ],
   "source": [
    "# (a) Print capital accumulation\n",
    "print('Capital accumulation:')\n",
    "model_a.capitalacc()"
   ]
  },
  {
   "attachments": {},
   "cell_type": "markdown",
   "metadata": {},
   "source": [
    "Since capital in **steady state** is given by: $k_t=k_{t+1}=k^*$, I find ss by isolating *k*"
   ]
  },
  {
   "cell_type": "code",
   "execution_count": 290,
   "metadata": {},
   "outputs": [
    {
     "data": {
      "text/latex": [
       "$\\displaystyle k^{*} = \\left(\\frac{\\left(1 - \\alpha\\right) \\left(1 - \\tau\\right)}{\\left(1 + \\frac{\\tau \\left(1 - \\alpha\\right) \\left(\\rho + 1\\right)}{\\alpha \\left(\\rho + 2\\right)}\\right)^{2} \\left(n + 1\\right) \\left(\\rho + 2\\right)}\\right)^{\\frac{1}{1 - \\alpha}}$"
      ],
      "text/plain": [
       "Eq(k^*, ((1 - alpha)*(1 - tau)/((1 + tau*(1 - alpha)*(rho + 1)/(alpha*(rho + 2)))**2*(n + 1)*(rho + 2)))**(1/(1 - alpha)))"
      ]
     },
     "metadata": {},
     "output_type": "display_data"
    }
   ],
   "source": [
    "# (a) Print steady state for capital\n",
    "print('Steady state:')\n",
    "display(sm.Eq(par.k_ss, model_a.steadystate()))"
   ]
  },
  {
   "attachments": {},
   "cell_type": "markdown",
   "metadata": {},
   "source": [
    "Finally, I want to examine steady state, if I plug in some broadly recognised parameter estimates:"
   ]
  },
  {
   "cell_type": "code",
   "execution_count": 294,
   "metadata": {},
   "outputs": [
    {
     "name": "stdout",
     "output_type": "stream",
     "text": [
      "Steady state:\n"
     ]
    },
    {
     "data": {
      "text/plain": [
       "0.04946900507922926"
      ]
     },
     "execution_count": 294,
     "metadata": {},
     "output_type": "execute_result"
    }
   ],
   "source": [
    "# (a) Defining parameters\n",
    "alpha_ = 1/3\n",
    "rho_ = 0.25\n",
    "n_ = 0.01\n",
    "tau_ = 0.25\n",
    "A_ = 20\n",
    "\n",
    "# (b) Defining the equation for ss\n",
    "k_ss_func = sm.lambdify(args = (par.alpha, par.rho, par.n, par.tau, par.a), expr = model_a.steadystate())\n",
    "\n",
    "\n",
    "# (c) Print steady state for capital\n",
    "print('Steady state:')\n",
    "k_ss_func(alpha_, rho_, n_, tau_, A_)"
   ]
  },
  {
   "attachments": {},
   "cell_type": "markdown",
   "metadata": {},
   "source": [
    "The result shows the level of capital per worker when consumers optimize their utility is 0.049, which seems a little off."
   ]
  },
  {
   "attachments": {},
   "cell_type": "markdown",
   "metadata": {},
   "source": [
    "## **Nummerical solution**"
   ]
  },
  {
   "attachments": {},
   "cell_type": "markdown",
   "metadata": {},
   "source": [
    "I use my findings from the analytical part to find the steady state level of capital. I use a numerical optimization to find the steady state."
   ]
  },
  {
   "cell_type": "code",
   "execution_count": 292,
   "metadata": {},
   "outputs": [],
   "source": [
    "# (a) Importing the nummerical model\n",
    "model_n = num.OLGmodelnummerical()"
   ]
  },
  {
   "attachments": {},
   "cell_type": "markdown",
   "metadata": {},
   "source": [
    "How, I plot the optimal level of capital in the transition curve:"
   ]
  },
  {
   "cell_type": "code",
   "execution_count": 293,
   "metadata": {},
   "outputs": [
    {
     "data": {
      "image/png": "[encoded data removed]",
      "text/plain": [
       "<Figure size 640x480 with 1 Axes>"
      ]
     },
     "metadata": {},
     "output_type": "display_data"
    }
   ],
   "source": [
    "# (a) Optimal capital level per worker\n",
    "model_n.transitioncurve()\n",
    "\n",
    "\n",
    "# (b) Defining the figure\n",
    "figure1 = plt.figure()\n",
    "ax = figure1.add_subplot(1,1,1)\n",
    "model_n.plot_transition_curve(ax)\n",
    "model_n.fourtyfive_curve(ax)\n",
    "\n",
    "\n",
    "# (c) plotting in ss\n",
    "plt.annotate(f'$k^*$ = {model_n.ss:.3f}', (model_n.ss-2, model_n.ss+2))\n",
    "plt.title('Transition curve, capital per worker')\n",
    "plt.show()\n",
    "\n"
   ]
  },
  {
   "attachments": {},
   "cell_type": "markdown",
   "metadata": {},
   "source": [
    "Based on the findings from the transition curve, capital per worker in steady state is ***\n",
    "\n"
   ]
  }
 ],
 "metadata": {
  "kernelspec": {
   "display_name": "base",
   "language": "python",
   "name": "python3"
  },
  "language_info": {
   "codemirror_mode": {
    "name": "ipython",
    "version": 3
   },
   "file_extension": ".py",
   "mimetype": "text/x-python",
   "name": "python",
   "nbconvert_exporter": "python",
   "pygments_lexer": "ipython3",
   "version": "3.9.16"
  },
  "toc-autonumbering": true,
  "vscode": {
   "interpreter": {
    "hash": "47ef90cdf3004d3f859f1fb202523c65c07ba7c22eefd261b181f4744e2d0403"
   }
  }
 },
 "nbformat": 4,
 "nbformat_minor": 4
}
