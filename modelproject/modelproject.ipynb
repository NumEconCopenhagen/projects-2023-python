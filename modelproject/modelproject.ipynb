{
 "cells": [
  {
   "attachments": {},
   "cell_type": "markdown",
   "metadata": {},
   "source": [
    "# Model project: *Over Lapping Generational Model*"
   ]
  },
  {
   "attachments": {},
   "cell_type": "markdown",
   "metadata": {},
   "source": [
    "Imports and set magics:"
   ]
  },
  {
   "cell_type": "code",
   "execution_count": 131,
   "metadata": {},
   "outputs": [
    {
     "name": "stdout",
     "output_type": "stream",
     "text": [
      "The autoreload extension is already loaded. To reload it, use:\n",
      "  %reload_ext autoreload\n"
     ]
    }
   ],
   "source": [
    "# (a) Import python modules\n",
    "import numpy as np\n",
    "from scipy import optimize\n",
    "import sympy as sm\n",
    "from types import SimpleNamespace\n",
    "import matplotlib.pyplot as plt\n",
    "import ipywidgets as widgets\n",
    "\n",
    "# (b) autoreload modules when code is run\n",
    "%load_ext autoreload\n",
    "%autoreload 2\n",
    "\n",
    "# (c) import models\n",
    "import analytical as ana\n",
    "import nummerical as num"
   ]
  },
  {
   "attachments": {},
   "cell_type": "markdown",
   "metadata": {},
   "source": [
    "## **Introduction to the model**"
   ]
  },
  {
   "attachments": {},
   "cell_type": "markdown",
   "metadata": {},
   "source": [
    "In my model project, I have chosen to examine an *Over Lapping Generational* model (OLG model), which is a long run growth model that accounts for consumer preferences. \n",
    "\n",
    "In the model, the agents live for two periods: *t* and *t+1*, while the government has infitnite horizons. The agents are divided into the young generation and and the old generation, and their consumption is given by $C_{1t}$ and $C_{2t+1}$, respectively.\n",
    "\n",
    "Time is discrete and indexed by $t\\epsilon (0, 1, 2, ...)$\n",
    "\n",
    "The OLG model presents two frameworks:\n",
    "\n",
    "* The first framework is based on private savings, so all generations save for their own retirement. This framework is called *fully funded*.\n",
    "\n",
    "* The second framework is a *pay-as-you-go system* (payg), where the young generation pays for the old generation's retirement. The major challenge with this system occurs, when the young generation is smaller than the old generation, which is the current case in Denmark.\n",
    "\n",
    "Since Denmark is based on a PAYG-system, I will examine this system in the following analysis:"
   ]
  },
  {
   "attachments": {},
   "cell_type": "markdown",
   "metadata": {},
   "source": [
    "## **Model description**"
   ]
  },
  {
   "attachments": {},
   "cell_type": "markdown",
   "metadata": {},
   "source": [
    "### *Population*"
   ]
  },
  {
   "attachments": {},
   "cell_type": "markdown",
   "metadata": {},
   "source": [
    "\n",
    "Population is given by: \n",
    "\n",
    "$$\n",
    "\\begin{aligned}\n",
    "L_t=L_{t-1}(1+n)\n",
    "\\end{aligned}\n",
    "$$\n",
    "\n",
    "$L_t$ denotes the current young generation\n",
    "\n",
    "$L_{t-1}$ is the old generation who are still alive in the current period\n",
    "\n",
    "$n$ = growth rate"
   ]
  },
  {
   "attachments": {},
   "cell_type": "markdown",
   "metadata": {},
   "source": [
    "#### *Consumer's utility function*"
   ]
  },
  {
   "attachments": {},
   "cell_type": "markdown",
   "metadata": {},
   "source": [
    "The consumers maximize their utility from their income. Notice that the consumers face a trade-off when decide whether to consume now and save later or vice versa.\n",
    "\n",
    "\n",
    "$$\n",
    "\\begin{aligned} \n",
    "U_t = log(c_{1t}) + \\beta log(c_{2t+1})\\\\\n",
    "\\beta =\\frac{1}{1+{\\rho}}\n",
    "\\end{aligned}\n",
    "$$"
   ]
  },
  {
   "attachments": {},
   "cell_type": "markdown",
   "metadata": {},
   "source": [
    "### *Budget contraints (BC)*"
   ]
  },
  {
   "attachments": {},
   "cell_type": "markdown",
   "metadata": {},
   "source": [
    "As described in the introduction, only the young generation works, while the old generation is retired. Do to the PAYG-structure, the young generation is subject to income taxation ($\\tau$). Furthermore, the young generation saves some of their income for their retirement ($s_t$).\n",
    "\n",
    "The old generation consumes their savings (plus the interest income from their savings) and the public retirement ($d_{t+1}$)\n",
    "\n",
    "$$\n",
    "\\begin{aligned}\n",
    "&c_{1t} = w_t(1-\\tau) - s_t\\\\\n",
    "&c_{2t+1} = (1+r_{t+1})s_t + (1+n)d_{t+1}\n",
    "\\end{aligned} \n",
    "$$\n",
    "\n",
    "\n",
    "\n"
   ]
  },
  {
   "attachments": {},
   "cell_type": "markdown",
   "metadata": {},
   "source": [
    "### *Consumer's maximization problem*"
   ]
  },
  {
   "attachments": {},
   "cell_type": "markdown",
   "metadata": {},
   "source": [
    "The young generation's maximization problem is as follows:\n",
    "\n",
    "$$\n",
    "\\begin{aligned} \n",
    "U_t = log(c_{1t}) + \\beta log(c_{2t+1})\\\\\n",
    "st.\\\\\n",
    "c_{1t} = w_t(1-\\tau) - s_t\\\\\n",
    "c_{2t+1} = (1+r_{t+1})s_t + (1+n)d_{t+1}\n",
    "\\end{aligned}\n",
    "$$"
   ]
  },
  {
   "attachments": {},
   "cell_type": "markdown",
   "metadata": {},
   "source": [
    "### *Firms*"
   ]
  },
  {
   "attachments": {},
   "cell_type": "markdown",
   "metadata": {},
   "source": [
    "In the model, firms operate according to a Cobb Douglas productin function. This implies that only capital $(K_t)$ and labour $(L_t)$ are input factors in the production function. $\\alpha$ is the share of output that goes to capital and so $(1-\\alpha)$ goes to labour\n",
    "$$\\begin{aligned}\n",
    " Y_t = K_t^{\\alpha}L_t^{1-\\alpha}\n",
    "\\end{aligned} \n",
    "$$ \n",
    "\n",
    "\n",
    "Based on the assumption that capital decressiated completely each period $(\\delta=1)$, firm's maximization problems is as follows:\n",
    "\n",
    "\n",
    "$$\n",
    "\\begin{aligned}\n",
    " max \\Pi  = K_t^{\\alpha}L_t^{1-\\alpha} - r_tK_t - w_tL_t\n",
    "\\end{aligned} \n",
    "$$ "
   ]
  },
  {
   "attachments": {},
   "cell_type": "markdown",
   "metadata": {},
   "source": [
    "## **Analytical solution**"
   ]
  },
  {
   "attachments": {},
   "cell_type": "markdown",
   "metadata": {},
   "source": [
    "First of all, I import my OLG model from my py-file:"
   ]
  },
  {
   "cell_type": "code",
   "execution_count": 132,
   "metadata": {},
   "outputs": [],
   "source": [
    "# (a) Importing the OLG-model for analytical solution\n",
    "model_a = ana.OLGmodelanalytical()\n",
    "par = model.par"
   ]
  },
  {
   "attachments": {},
   "cell_type": "markdown",
   "metadata": {},
   "source": [
    "Secondly, I print the **Euler Equation**:"
   ]
  },
  {
   "cell_type": "code",
   "execution_count": 133,
   "metadata": {},
   "outputs": [
    {
     "name": "stdout",
     "output_type": "stream",
     "text": [
      "Consumers utility function:\n"
     ]
    },
    {
     "data": {
      "text/latex": [
       "$\\displaystyle U_{t} = \\beta \\log{\\left(c_{2t+1} \\right)} + \\log{\\left(c_{1t} \\right)}$"
      ],
      "text/plain": [
       "Eq(U_t, beta*log(c_{2t+1}) + log(c_{1t}))"
      ]
     },
     "metadata": {},
     "output_type": "display_data"
    },
    {
     "name": "stdout",
     "output_type": "stream",
     "text": [
      "Intertemporal budget constraint:\n"
     ]
    },
    {
     "data": {
      "text/latex": [
       "$\\displaystyle 0 = c_{1t} + s_{t} - w_{t} \\left(1 - \\tau\\right)$"
      ],
      "text/plain": [
       "Eq(0, c_{1t} + s_t - w_t*(1 - tau))"
      ]
     },
     "metadata": {},
     "output_type": "display_data"
    },
    {
     "name": "stdout",
     "output_type": "stream",
     "text": [
      "The Euler Equation:\n"
     ]
    },
    {
     "ename": "SympifyError",
     "evalue": "SympifyError: []",
     "output_type": "error",
     "traceback": [
      "\u001b[1;31m---------------------------------------------------------------------------\u001b[0m",
      "\u001b[1;31mSympifyError\u001b[0m                              Traceback (most recent call last)",
      "Cell \u001b[1;32mIn[133], line 13\u001b[0m\n\u001b[0;32m     11\u001b[0m \u001b[39m# (c) Euler equation\u001b[39;00m\n\u001b[0;32m     12\u001b[0m \u001b[39mprint\u001b[39m(\u001b[39m'\u001b[39m\u001b[39mThe Euler Equation:\u001b[39m\u001b[39m'\u001b[39m)\n\u001b[1;32m---> 13\u001b[0m model_a\u001b[39m.\u001b[39;49meulerequation()\n",
      "File \u001b[1;32mc:\\Users\\CAAL\\Dropbox\\Polit\\Kandidat\\3. semester\\Introduction to programming and numerical analysis\\projects-2023-python-1\\modelproject\\analytical.py:119\u001b[0m, in \u001b[0;36mOLGmodelanalytical.eulerequation\u001b[1;34m(self)\u001b[0m\n\u001b[0;32m    115\u001b[0m Lambda2 \u001b[39m=\u001b[39m sm\u001b[39m.\u001b[39msolve(FOC_O, par\u001b[39m.\u001b[39mlambdaa)\n\u001b[0;32m    118\u001b[0m \u001b[39m# (d) Eulers equation\u001b[39;00m\n\u001b[1;32m--> 119\u001b[0m E_Y \u001b[39m=\u001b[39m sm\u001b[39m.\u001b[39msolve(sm\u001b[39m.\u001b[39;49mEq(Lambda1, Lambda2), par\u001b[39m.\u001b[39mc1t)[\u001b[39m0\u001b[39m]\n\u001b[0;32m    122\u001b[0m \u001b[39m# (e) Return \u001b[39;00m\n\u001b[0;32m    123\u001b[0m \u001b[39mreturn\u001b[39;00m sm\u001b[39m.\u001b[39mEq(E_Y, par\u001b[39m.\u001b[39mc1t)\n",
      "File \u001b[1;32mc:\\Users\\CAAL\\Anaconda3\\lib\\site-packages\\sympy\\core\\relational.py:627\u001b[0m, in \u001b[0;36mEquality.__new__\u001b[1;34m(cls, lhs, rhs, **options)\u001b[0m\n\u001b[0;32m    625\u001b[0m evaluate \u001b[39m=\u001b[39m options\u001b[39m.\u001b[39mpop(\u001b[39m'\u001b[39m\u001b[39mevaluate\u001b[39m\u001b[39m'\u001b[39m, global_parameters\u001b[39m.\u001b[39mevaluate)\n\u001b[0;32m    626\u001b[0m lhs \u001b[39m=\u001b[39m _sympify(lhs)\n\u001b[1;32m--> 627\u001b[0m rhs \u001b[39m=\u001b[39m _sympify(rhs)\n\u001b[0;32m    628\u001b[0m \u001b[39mif\u001b[39;00m evaluate:\n\u001b[0;32m    629\u001b[0m     val \u001b[39m=\u001b[39m is_eq(lhs, rhs)\n",
      "File \u001b[1;32mc:\\Users\\CAAL\\Anaconda3\\lib\\site-packages\\sympy\\core\\sympify.py:529\u001b[0m, in \u001b[0;36m_sympify\u001b[1;34m(a)\u001b[0m\n\u001b[0;32m    503\u001b[0m \u001b[39mdef\u001b[39;00m \u001b[39m_sympify\u001b[39m(a):\n\u001b[0;32m    504\u001b[0m     \u001b[39m\"\"\"\u001b[39;00m\n\u001b[0;32m    505\u001b[0m \u001b[39m    Short version of :func:`~.sympify` for internal usage for ``__add__`` and\u001b[39;00m\n\u001b[0;32m    506\u001b[0m \u001b[39m    ``__eq__`` methods where it is ok to allow some things (like Python\u001b[39;00m\n\u001b[1;32m   (...)\u001b[0m\n\u001b[0;32m    527\u001b[0m \n\u001b[0;32m    528\u001b[0m \u001b[39m    \"\"\"\u001b[39;00m\n\u001b[1;32m--> 529\u001b[0m     \u001b[39mreturn\u001b[39;00m sympify(a, strict\u001b[39m=\u001b[39;49m\u001b[39mTrue\u001b[39;49;00m)\n",
      "File \u001b[1;32mc:\\Users\\CAAL\\Anaconda3\\lib\\site-packages\\sympy\\core\\sympify.py:450\u001b[0m, in \u001b[0;36msympify\u001b[1;34m(a, locals, convert_xor, strict, rational, evaluate)\u001b[0m\n\u001b[0;32m    447\u001b[0m                 \u001b[39mcontinue\u001b[39;00m\n\u001b[0;32m    449\u001b[0m \u001b[39mif\u001b[39;00m strict:\n\u001b[1;32m--> 450\u001b[0m     \u001b[39mraise\u001b[39;00m SympifyError(a)\n\u001b[0;32m    452\u001b[0m \u001b[39mif\u001b[39;00m iterable(a):\n\u001b[0;32m    453\u001b[0m     \u001b[39mtry\u001b[39;00m:\n",
      "\u001b[1;31mSympifyError\u001b[0m: SympifyError: []"
     ]
    }
   ],
   "source": [
    "# (a) Consumer's utility function\n",
    "print('Consumers utility function:')\n",
    "display(sm.Eq(par.Ut, model_a.utility()))\n",
    "\n",
    "\n",
    "# (b) IBC\n",
    "print('Intertemporal budget constraint:')\n",
    "display(sm.Eq(0, model_a.consumerBC()))\n",
    "\n",
    "\n",
    "# (c) Euler equation\n",
    "print('The Euler Equation:')\n",
    "model_a.eulerequation()"
   ]
  },
  {
   "attachments": {},
   "cell_type": "markdown",
   "metadata": {},
   "source": [
    "Thirdly, I find the **optimal saving rate** by substituting the Euler Equation into the BC. The optimal saving rate, $(s_t)$ is determined by the consumer's preferences."
   ]
  },
  {
   "cell_type": "code",
   "execution_count": null,
   "metadata": {},
   "outputs": [
    {
     "name": "stdout",
     "output_type": "stream",
     "text": [
      "Optimal saving:\n"
     ]
    },
    {
     "ename": "AttributeError",
     "evalue": "'OLGmodelanalytical' object has no attribute 'eulersequation'",
     "output_type": "error",
     "traceback": [
      "\u001b[1;31m---------------------------------------------------------------------------\u001b[0m",
      "\u001b[1;31mAttributeError\u001b[0m                            Traceback (most recent call last)",
      "Cell \u001b[1;32mIn[82], line 3\u001b[0m\n\u001b[0;32m      1\u001b[0m \u001b[39m# (a) Optimal savings\u001b[39;00m\n\u001b[0;32m      2\u001b[0m \u001b[39mprint\u001b[39m(\u001b[39m'\u001b[39m\u001b[39mOptimal saving:\u001b[39m\u001b[39m'\u001b[39m)\n\u001b[1;32m----> 3\u001b[0m display(sm\u001b[39m.\u001b[39mEq(par\u001b[39m.\u001b[39mst, model\u001b[39m.\u001b[39;49mOptimalsaving()))\n",
      "File \u001b[1;32mc:\\Users\\CAAL\\Dropbox\\Polit\\Kandidat\\3. semester\\Introduction to programming and numerical analysis\\projects-2023-python-1\\modelproject\\analytical.py:190\u001b[0m, in \u001b[0;36mOptimalsaving\u001b[1;34m(self)\u001b[0m\n\u001b[0;32m    186\u001b[0m     Saving_Y = Eulers.subs(par.c1t, BC_Y_)\n\u001b[0;32m    187\u001b[0m     Saving_O = Eulers.subs(par.c2t1, BC_O_)\n\u001b[1;32m--> 190\u001b[0m     # (iv) Optimal saving\n\u001b[0;32m    191\u001b[0m     return sm.solve(Saving_O, par.st)[0]\n\u001b[0;32m    195\u001b[0m \"\"\" Defining capital accumulation \"\"\"\n",
      "\u001b[1;31mAttributeError\u001b[0m: 'OLGmodelanalytical' object has no attribute 'eulersequation'"
     ]
    }
   ],
   "source": [
    "# (a) Optimal savings\n",
    "print('Optimal saving:')\n",
    "display(sm.Eq(par.st, model_a.Optimalsaving()))"
   ]
  },
  {
   "attachments": {},
   "cell_type": "markdown",
   "metadata": {},
   "source": [
    "Then, I use the optimal saving rate to find the **steady state for capital**. I do this by subtituting the optimal savings into the expression for $k_{t+1}$, inserting FOC and solve for $k^*$"
   ]
  },
  {
   "cell_type": "code",
   "execution_count": null,
   "metadata": {},
   "outputs": [
    {
     "name": "stdout",
     "output_type": "stream",
     "text": [
      "Law of motion for capital per worker:\n"
     ]
    },
    {
     "ename": "TypeError",
     "evalue": "'Equality' object is not subscriptable",
     "output_type": "error",
     "traceback": [
      "\u001b[1;31m---------------------------------------------------------------------------\u001b[0m",
      "\u001b[1;31mTypeError\u001b[0m                                 Traceback (most recent call last)",
      "Cell \u001b[1;32mIn[83], line 3\u001b[0m\n\u001b[0;32m      1\u001b[0m \u001b[39m# (a) Law of motion\u001b[39;00m\n\u001b[0;32m      2\u001b[0m \u001b[39mprint\u001b[39m(\u001b[39m'\u001b[39m\u001b[39mLaw of motion for capital per worker:\u001b[39m\u001b[39m'\u001b[39m)\n\u001b[1;32m----> 3\u001b[0m display(model\u001b[39m.\u001b[39;49mcapitalacc()[\u001b[39m0\u001b[39m])\n\u001b[0;32m      5\u001b[0m \u001b[39m# Steady state for capital\u001b[39;00m\n\u001b[0;32m      6\u001b[0m \u001b[39mprint\u001b[39m(\u001b[39m'\u001b[39m\u001b[39mSteady state for capital per worker:\u001b[39m\u001b[39m'\u001b[39m)\n",
      "File \u001b[1;32mc:\\Users\\CAAL\\Dropbox\\Polit\\Kandidat\\3. semester\\Introduction to programming and numerical analysis\\projects-2023-python-1\\modelproject\\analytical.py:209\u001b[0m, in \u001b[0;36mOLGmodelanalytical.capitalacc\u001b[1;34m(self)\u001b[0m\n\u001b[0;32m    205\u001b[0m k_t1_ \u001b[39m=\u001b[39m \u001b[39m1\u001b[39m \u001b[39m/\u001b[39m (\u001b[39m1\u001b[39m\u001b[39m+\u001b[39mpar\u001b[39m.\u001b[39mn) \u001b[39m*\u001b[39m par\u001b[39m.\u001b[39mst\n\u001b[0;32m    208\u001b[0m \u001b[39m# (ii) Market clearing in t=1\u001b[39;00m\n\u001b[1;32m--> 209\u001b[0m r_1 \u001b[39m=\u001b[39m \u001b[39mself\u001b[39;49m\u001b[39m.\u001b[39;49mPrices()[\u001b[39m0\u001b[39m]\n\u001b[0;32m    210\u001b[0m w_1 \u001b[39m=\u001b[39m \u001b[39mself\u001b[39m\u001b[39m.\u001b[39mPrices()[\u001b[39m1\u001b[39m]\n\u001b[0;32m    213\u001b[0m \u001b[39m# (iii) Market clearing in t=2\u001b[39;00m\n",
      "File \u001b[1;32mc:\\Users\\CAAL\\Dropbox\\Polit\\Kandidat\\3. semester\\Introduction to programming and numerical analysis\\projects-2023-python-1\\modelproject\\analytical.py:152\u001b[0m, in \u001b[0;36mOLGmodelanalytical.Prices\u001b[1;34m(self)\u001b[0m\n\u001b[0;32m    148\u001b[0m K_t1_ \u001b[39m=\u001b[39m par\u001b[39m.\u001b[39mLt1 \u001b[39m*\u001b[39m par\u001b[39m.\u001b[39mkt1\n\u001b[0;32m    151\u001b[0m \u001b[39m# (v) Inserting\u001b[39;00m\n\u001b[1;32m--> 152\u001b[0m r_k___t \u001b[39m=\u001b[39m r_k_t\u001b[39m.\u001b[39;49msubs(par\u001b[39m.\u001b[39;49mKt, K_t_)[\u001b[39m0\u001b[39;49m]\n\u001b[0;32m    153\u001b[0m r_k___t1 \u001b[39m=\u001b[39m r_k_t1\u001b[39m.\u001b[39msubs(par\u001b[39m.\u001b[39mKt1, K_t1_)[\u001b[39m0\u001b[39m]\n\u001b[0;32m    156\u001b[0m \u001b[39m# (vi) Wage (FOC)\u001b[39;00m\n",
      "\u001b[1;31mTypeError\u001b[0m: 'Equality' object is not subscriptable"
     ]
    }
   ],
   "source": [
    "# (a) Law of motion\n",
    "print('Law of motion for capital per worker:')\n",
    "display(model_a.capitalacc()[0])\n",
    "\n",
    "# Steady state for capital\n",
    "print('Steady state for capital per worker:')\n",
    "display(model_a.capitalacc()[1])"
   ]
  },
  {
   "attachments": {},
   "cell_type": "markdown",
   "metadata": {},
   "source": [
    "Finally, I plot in some realistic parameters to find steady state for capital: "
   ]
  },
  {
   "cell_type": "code",
   "execution_count": null,
   "metadata": {},
   "outputs": [],
   "source": [
    "# (a) Defining parameter\n",
    "alpha_ = 0.3\n",
    "beta_ = 0.5\n",
    "n_ = 0.0\n",
    "tau_ = 0\n",
    "A_ = 15\n",
    "\n",
    "# (b) Lambda function\n",
    "k_ss_ = sm.lambdify(args=(par.alpha, par.beta, par.n, par.tau, par.A), expr=model.capitalacc()[2])\n",
    "\n",
    "# (c) Optimal capital\n",
    "print('Optimal captial')\n",
    "ana_result = k_ss_(alpha_, beta_, n_, tau_, A_)\n",
    "print(ana_result)"
   ]
  },
  {
   "attachments": {},
   "cell_type": "markdown",
   "metadata": {},
   "source": [
    "The result shows the level of capital per worker when consumers optimize their utility"
   ]
  },
  {
   "attachments": {},
   "cell_type": "markdown",
   "metadata": {},
   "source": [
    "## **Nummerical solution**"
   ]
  },
  {
   "attachments": {},
   "cell_type": "markdown",
   "metadata": {},
   "source": [
    "I use my findings from the analytical part to find the steady state level of capital. I use a numerical optimization to find the steady state."
   ]
  },
  {
   "cell_type": "code",
   "execution_count": 134,
   "metadata": {},
   "outputs": [],
   "source": [
    "# (a) Importing the nummerical model\n",
    "model_n = num.OLGmodelnummerical()"
   ]
  },
  {
   "attachments": {},
   "cell_type": "markdown",
   "metadata": {},
   "source": [
    "How, I plot the optimal level of capital in the transition curve:"
   ]
  },
  {
   "cell_type": "code",
   "execution_count": 141,
   "metadata": {},
   "outputs": [
    {
     "ename": "TypeError",
     "evalue": "transitioncurve() takes 1 positional argument but 2 were given",
     "output_type": "error",
     "traceback": [
      "\u001b[1;31m---------------------------------------------------------------------------\u001b[0m",
      "\u001b[1;31mTypeError\u001b[0m                                 Traceback (most recent call last)",
      "Cell \u001b[1;32mIn[141], line 9\u001b[0m\n\u001b[0;32m      6\u001b[0m ax \u001b[39m=\u001b[39m figure1\u001b[39m.\u001b[39madd_subplot(\u001b[39m1\u001b[39m,\u001b[39m1\u001b[39m,\u001b[39m1\u001b[39m)\n\u001b[0;32m      8\u001b[0m \u001b[39m# (c) Adjusting the figure\u001b[39;00m\n\u001b[1;32m----> 9\u001b[0m model_n\u001b[39m.\u001b[39;49mtransitioncurve(ax)\n\u001b[0;32m     10\u001b[0m model_n\u001b[39m.\u001b[39mfourtyfive_curve(ax)\n\u001b[0;32m     11\u001b[0m plt\u001b[39m.\u001b[39mplot(model_n\u001b[39m.\u001b[39mss, model_n\u001b[39m.\u001b[39mss)\n",
      "\u001b[1;31mTypeError\u001b[0m: transitioncurve() takes 1 positional argument but 2 were given"
     ]
    },
    {
     "data": {
      "image/png": "[encoded data removed]",
      "text/plain": [
       "<Figure size 640x480 with 1 Axes>"
      ]
     },
     "metadata": {},
     "output_type": "display_data"
    }
   ],
   "source": [
    "# (a) Optimal capital level per worker\n",
    "model_n.transitioncurve()\n",
    "\n",
    "# (b) Defining the figure\n",
    "figure1 = plt.figure()\n",
    "ax = figure1.add_subplot(1,1,1)\n",
    "\n",
    "# (c) Adjusting the figure\n",
    "model_n.transitioncurve(ax)\n",
    "model_n.fourtyfive_curve(ax)\n",
    "plt.plot(model_n.ss, model_n.ss)\n",
    "plt.annotate(f'$k^*$ = {model_n.ss:.3f}', (model_n.ss-2, model_n.ss+1), size=12)\n",
    "\n",
    "plt.title('')\n",
    "ax.spines['bottom'].set_linewidth(3)\n",
    "ax.spines['top'].set_linewidth(3)\n",
    "ax.spines['right'].set_linewidth(3)\n",
    "ax.spines['left'].set_linewidth(3)\n",
    "\n",
    "# iv. Display figure\n",
    "plt.show()\n"
   ]
  }
 ],
 "metadata": {
  "kernelspec": {
   "display_name": "base",
   "language": "python",
   "name": "python3"
  },
  "language_info": {
   "codemirror_mode": {
    "name": "ipython",
    "version": 3
   },
   "file_extension": ".py",
   "mimetype": "text/x-python",
   "name": "python",
   "nbconvert_exporter": "python",
   "pygments_lexer": "ipython3",
   "version": "3.9.16"
  },
  "toc-autonumbering": true,
  "vscode": {
   "interpreter": {
    "hash": "47ef90cdf3004d3f859f1fb202523c65c07ba7c22eefd261b181f4744e2d0403"
   }
  }
 },
 "nbformat": 4,
 "nbformat_minor": 4
}
